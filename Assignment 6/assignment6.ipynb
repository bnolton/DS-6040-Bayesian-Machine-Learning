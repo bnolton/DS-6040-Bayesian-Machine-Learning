{
 "cells": [
  {
   "cell_type": "markdown",
   "id": "540a0931-2d8e-4e91-9f6b-1687fe31d514",
   "metadata": {},
   "source": [
    "# Assignment 6\n",
    "\n",
    "In this assignment, we'll finally work with some nonconjugate models. I will also introduce you to reparameterization techniques.\n",
    "\n",
    "## Instructions\n",
    "\n",
    "Please complete this Jupyter notebook and **don't** convert it to a `.py` file. Upload this notebook, along with any `.stan` files and any data sets as a `zip` file to Gradescope. \n",
    "\n",
    "Your work will be manually graded by our TA. There is no autograder for this assignment. For free response work, feel free to add a markdown cell and type in there. Try to keep the preexisting structure as much as possible, and to be organized and label which cells correspond with which questions.\n",
    "\n",
    "This jupyter notebook should look somewhat like a report. It should be easy to follow for someone who understands how to write the code and interpret your results!\n",
    "\n",
    "\n",
    "\n"
   ]
  },
  {
   "cell_type": "markdown",
   "id": "d74ef08e-8b6f-4940-9eaa-ab2efa7f89e3",
   "metadata": {},
   "source": [
    "### Problem 1: Stocks (revisited with `stan`)\n",
    "\n",
    "Previously we took unconstrained multivariate data, and we used a multivariate normal distribution for it. That is, suppose each length $k$ row is called $y_i$ and that each row is independent. Then\n",
    "\n",
    "$$\n",
    "L(y_1, \\ldots, y_N \\mid \\theta) = \\prod_{j=1}^N L(y_j \\mid \\theta)\n",
    "$$\n",
    "\n",
    "where $\\theta = (\\mu, \\Sigma)$ and \n",
    "\n",
    "$$\n",
    " y_k \\mid \\mu, \\Sigma \\sim \\text{Normal}(\\mu, \\Sigma).\n",
    "$$\n",
    "\n",
    "We used the **Normal Inverse Wishart** prior because it's the conjugate prior. That involves choosing $\\mu_0, \\kappa_0, \\Lambda_0, \\nu_0$ Now I'll introduce a different prior that is very popular for `stan` users that is simpler to choose and sometimes produces a posterior that is easier to sample from.\n",
    "\n"
   ]
  },
  {
   "cell_type": "code",
   "execution_count": 1,
   "id": "78a6afec-c471-496e-980f-5bb2cb3784c6",
   "metadata": {},
   "outputs": [],
   "source": [
    "import pandas as pd\n",
    "import numpy as np\n",
    "import os\n",
    "from cmdstanpy import CmdStanModel\n",
    "import matplotlib.pyplot as plt"
   ]
  },
  {
   "cell_type": "markdown",
   "id": "e256c41f-4fa4-44eb-bc07-987087b15bd4",
   "metadata": {},
   "source": [
    "1.\n",
    "\n",
    "Download the data `stocks.csv` and assign it to a `pandas` `DataFrame` called `adj_prices`. Be sure to set the date as the index.\n",
    "\n",
    "Calculate percent returns (scaled by $100$) and call the resulting `DataFrame` `rets`. After understanding where they come from, be sure to remove any `NaN`s."
   ]
  },
  {
   "cell_type": "code",
   "execution_count": 2,
   "id": "c403e702-07cf-4b77-9c74-39f72b635e50",
   "metadata": {},
   "outputs": [
    {
     "data": {
      "text/html": [
       "<div>\n",
       "<style scoped>\n",
       "    .dataframe tbody tr th:only-of-type {\n",
       "        vertical-align: middle;\n",
       "    }\n",
       "\n",
       "    .dataframe tbody tr th {\n",
       "        vertical-align: top;\n",
       "    }\n",
       "\n",
       "    .dataframe thead th {\n",
       "        text-align: right;\n",
       "    }\n",
       "</style>\n",
       "<table border=\"1\" class=\"dataframe\">\n",
       "  <thead>\n",
       "    <tr style=\"text-align: right;\">\n",
       "      <th></th>\n",
       "      <th>SPY</th>\n",
       "      <th>QQQ</th>\n",
       "    </tr>\n",
       "    <tr>\n",
       "      <th>Date</th>\n",
       "      <th></th>\n",
       "      <th></th>\n",
       "    </tr>\n",
       "  </thead>\n",
       "  <tbody>\n",
       "    <tr>\n",
       "      <th>2020-01-02</th>\n",
       "      <td>304.113556</td>\n",
       "      <td>210.605392</td>\n",
       "    </tr>\n",
       "    <tr>\n",
       "      <th>2020-01-03</th>\n",
       "      <td>301.810730</td>\n",
       "      <td>208.676270</td>\n",
       "    </tr>\n",
       "    <tr>\n",
       "      <th>2020-01-06</th>\n",
       "      <td>302.962158</td>\n",
       "      <td>210.020767</td>\n",
       "    </tr>\n",
       "    <tr>\n",
       "      <th>2020-01-07</th>\n",
       "      <td>302.110260</td>\n",
       "      <td>209.991577</td>\n",
       "    </tr>\n",
       "    <tr>\n",
       "      <th>2020-01-08</th>\n",
       "      <td>303.720428</td>\n",
       "      <td>211.569916</td>\n",
       "    </tr>\n",
       "  </tbody>\n",
       "</table>\n",
       "</div>"
      ],
      "text/plain": [
       "                   SPY         QQQ\n",
       "Date                              \n",
       "2020-01-02  304.113556  210.605392\n",
       "2020-01-03  301.810730  208.676270\n",
       "2020-01-06  302.962158  210.020767\n",
       "2020-01-07  302.110260  209.991577\n",
       "2020-01-08  303.720428  211.569916"
      ]
     },
     "execution_count": 2,
     "metadata": {},
     "output_type": "execute_result"
    }
   ],
   "source": [
    "adj_prices = pd.read_csv(\"stocks.csv\", index_col='Date')\n",
    "adj_prices.head()"
   ]
  },
  {
   "cell_type": "code",
   "execution_count": 3,
   "id": "446b1689-e115-4123-9be0-60329081889b",
   "metadata": {},
   "outputs": [
    {
     "data": {
      "text/html": [
       "<div>\n",
       "<style scoped>\n",
       "    .dataframe tbody tr th:only-of-type {\n",
       "        vertical-align: middle;\n",
       "    }\n",
       "\n",
       "    .dataframe tbody tr th {\n",
       "        vertical-align: top;\n",
       "    }\n",
       "\n",
       "    .dataframe thead th {\n",
       "        text-align: right;\n",
       "    }\n",
       "</style>\n",
       "<table border=\"1\" class=\"dataframe\">\n",
       "  <thead>\n",
       "    <tr style=\"text-align: right;\">\n",
       "      <th></th>\n",
       "      <th>SPY</th>\n",
       "      <th>QQQ</th>\n",
       "    </tr>\n",
       "    <tr>\n",
       "      <th>Date</th>\n",
       "      <th></th>\n",
       "      <th></th>\n",
       "    </tr>\n",
       "  </thead>\n",
       "  <tbody>\n",
       "    <tr>\n",
       "      <th>2020-01-03</th>\n",
       "      <td>-0.757226</td>\n",
       "      <td>-0.915989</td>\n",
       "    </tr>\n",
       "    <tr>\n",
       "      <th>2020-01-06</th>\n",
       "      <td>0.381507</td>\n",
       "      <td>0.644298</td>\n",
       "    </tr>\n",
       "    <tr>\n",
       "      <th>2020-01-07</th>\n",
       "      <td>-0.281190</td>\n",
       "      <td>-0.013899</td>\n",
       "    </tr>\n",
       "    <tr>\n",
       "      <th>2020-01-08</th>\n",
       "      <td>0.532974</td>\n",
       "      <td>0.751620</td>\n",
       "    </tr>\n",
       "    <tr>\n",
       "      <th>2020-01-09</th>\n",
       "      <td>0.678064</td>\n",
       "      <td>0.847351</td>\n",
       "    </tr>\n",
       "  </tbody>\n",
       "</table>\n",
       "</div>"
      ],
      "text/plain": [
       "                 SPY       QQQ\n",
       "Date                          \n",
       "2020-01-03 -0.757226 -0.915989\n",
       "2020-01-06  0.381507  0.644298\n",
       "2020-01-07 -0.281190 -0.013899\n",
       "2020-01-08  0.532974  0.751620\n",
       "2020-01-09  0.678064  0.847351"
      ]
     },
     "execution_count": 3,
     "metadata": {},
     "output_type": "execute_result"
    }
   ],
   "source": [
    "rets = adj_prices.pct_change().dropna()*100\n",
    "rets.head()"
   ]
  },
  {
   "cell_type": "markdown",
   "id": "0a501aff-d736-469d-ac78-badc7be0b78e",
   "metadata": {},
   "source": [
    "2.\n",
    "\n",
    "Use the same prior as you did for homework 4 and simulate from the prior predictive distribution. Instead of doing it with your own handwritten function `sim_data()`, use `stan` to accomplish this. Produce appropriate visualizations and comment on them. \n",
    "\n",
    "NB: If I might suggest a small tweak to the demo code--don't hardcode any prior hyperparams. This will make it easier to change your prior later on!"
   ]
  },
  {
   "cell_type": "code",
   "execution_count": 4,
   "id": "810ff7be-5eac-4008-8e6a-4ef1c4784c95",
   "metadata": {},
   "outputs": [
    {
     "name": "stderr",
     "output_type": "stream",
     "text": [
      "01:28:15 - cmdstanpy - INFO - compiling stan file /bml24/hw62.stan to exe file /bml24/hw62\n",
      "01:28:38 - cmdstanpy - INFO - compiled model executable: /bml24/hw62\n"
     ]
    }
   ],
   "source": [
    "model_code2 = os.path.join('.', 'hw62.stan')\n",
    "model2 = CmdStanModel(stan_file=model_code2)"
   ]
  },
  {
   "cell_type": "code",
   "execution_count": 5,
   "id": "ae637eaa-86bb-4967-a61b-869b7204b0fe",
   "metadata": {},
   "outputs": [
    {
     "name": "stderr",
     "output_type": "stream",
     "text": [
      "01:28:39 - cmdstanpy - INFO - CmdStan start processing\n"
     ]
    },
    {
     "data": {
      "application/vnd.jupyter.widget-view+json": {
       "model_id": "e479c8b942574b0098270afc54432205",
       "version_major": 2,
       "version_minor": 0
      },
      "text/plain": [
       "chain 1 |          | 00:00 Status"
      ]
     },
     "metadata": {},
     "output_type": "display_data"
    },
    {
     "data": {
      "application/vnd.jupyter.widget-view+json": {
       "model_id": "64eee3cdd5954494829364520a96df0d",
       "version_major": 2,
       "version_minor": 0
      },
      "text/plain": [
       "chain 2 |          | 00:00 Status"
      ]
     },
     "metadata": {},
     "output_type": "display_data"
    },
    {
     "data": {
      "application/vnd.jupyter.widget-view+json": {
       "model_id": "71e08fddab00499c85e99b433a47d002",
       "version_major": 2,
       "version_minor": 0
      },
      "text/plain": [
       "chain 3 |          | 00:00 Status"
      ]
     },
     "metadata": {},
     "output_type": "display_data"
    },
    {
     "data": {
      "application/vnd.jupyter.widget-view+json": {
       "model_id": "f0d2afc9b62c40c9a5973748f58f0a43",
       "version_major": 2,
       "version_minor": 0
      },
      "text/plain": [
       "chain 4 |          | 00:00 Status"
      ]
     },
     "metadata": {},
     "output_type": "display_data"
    },
    {
     "name": "stdout",
     "output_type": "stream",
     "text": [
      "                                                                                                                                                                                                                                                                                                                                "
     ]
    },
    {
     "name": "stderr",
     "output_type": "stream",
     "text": [
      "01:28:40 - cmdstanpy - INFO - CmdStan done processing.\n"
     ]
    },
    {
     "name": "stdout",
     "output_type": "stream",
     "text": [
      "\n"
     ]
    }
   ],
   "source": [
    "wish_data = {'K': 2,\n",
    "    'N': 1000,\n",
    "    'nu0': 10,\n",
    "    'Lambda0': np.array([[1/2,0],[0,1/3]]),\n",
    "    'mu0': np.array([0,0]),\n",
    "    'kappa0': 1}\n",
    "fit2 = model2.sample(wish_data, fixed_param = True)"
   ]
  },
  {
   "cell_type": "code",
   "execution_count": 6,
   "id": "b7858b3e-a7e5-4904-a766-e9142fd17c41",
   "metadata": {},
   "outputs": [
    {
     "data": {
      "text/html": [
       "<div>\n",
       "<style scoped>\n",
       "    .dataframe tbody tr th:only-of-type {\n",
       "        vertical-align: middle;\n",
       "    }\n",
       "\n",
       "    .dataframe tbody tr th {\n",
       "        vertical-align: top;\n",
       "    }\n",
       "\n",
       "    .dataframe thead th {\n",
       "        text-align: right;\n",
       "    }\n",
       "</style>\n",
       "<table border=\"1\" class=\"dataframe\">\n",
       "  <thead>\n",
       "    <tr style=\"text-align: right;\">\n",
       "      <th></th>\n",
       "      <th>chain__</th>\n",
       "      <th>iter__</th>\n",
       "      <th>draw__</th>\n",
       "      <th>lp__</th>\n",
       "      <th>accept_stat__</th>\n",
       "      <th>Sigma[1,1]</th>\n",
       "      <th>Sigma[2,1]</th>\n",
       "      <th>Sigma[1,2]</th>\n",
       "      <th>Sigma[2,2]</th>\n",
       "      <th>mu[1]</th>\n",
       "      <th>...</th>\n",
       "      <th>y_sim[991,2]</th>\n",
       "      <th>y_sim[992,2]</th>\n",
       "      <th>y_sim[993,2]</th>\n",
       "      <th>y_sim[994,2]</th>\n",
       "      <th>y_sim[995,2]</th>\n",
       "      <th>y_sim[996,2]</th>\n",
       "      <th>y_sim[997,2]</th>\n",
       "      <th>y_sim[998,2]</th>\n",
       "      <th>y_sim[999,2]</th>\n",
       "      <th>y_sim[1000,2]</th>\n",
       "    </tr>\n",
       "  </thead>\n",
       "  <tbody>\n",
       "    <tr>\n",
       "      <th>0</th>\n",
       "      <td>1.0</td>\n",
       "      <td>1.0</td>\n",
       "      <td>1.0</td>\n",
       "      <td>0.0</td>\n",
       "      <td>0.0</td>\n",
       "      <td>0.046364</td>\n",
       "      <td>0.020595</td>\n",
       "      <td>0.020595</td>\n",
       "      <td>0.070857</td>\n",
       "      <td>0.263810</td>\n",
       "      <td>...</td>\n",
       "      <td>0.278204</td>\n",
       "      <td>-0.203835</td>\n",
       "      <td>0.302421</td>\n",
       "      <td>0.211318</td>\n",
       "      <td>0.501154</td>\n",
       "      <td>0.206671</td>\n",
       "      <td>0.295757</td>\n",
       "      <td>0.438505</td>\n",
       "      <td>0.401828</td>\n",
       "      <td>0.440601</td>\n",
       "    </tr>\n",
       "    <tr>\n",
       "      <th>1</th>\n",
       "      <td>1.0</td>\n",
       "      <td>2.0</td>\n",
       "      <td>2.0</td>\n",
       "      <td>0.0</td>\n",
       "      <td>0.0</td>\n",
       "      <td>0.057285</td>\n",
       "      <td>0.014369</td>\n",
       "      <td>0.014369</td>\n",
       "      <td>0.076699</td>\n",
       "      <td>0.363084</td>\n",
       "      <td>...</td>\n",
       "      <td>0.079331</td>\n",
       "      <td>0.123278</td>\n",
       "      <td>0.208501</td>\n",
       "      <td>-0.160304</td>\n",
       "      <td>0.557745</td>\n",
       "      <td>0.839187</td>\n",
       "      <td>0.435143</td>\n",
       "      <td>0.056666</td>\n",
       "      <td>0.662216</td>\n",
       "      <td>0.434206</td>\n",
       "    </tr>\n",
       "    <tr>\n",
       "      <th>2</th>\n",
       "      <td>1.0</td>\n",
       "      <td>3.0</td>\n",
       "      <td>3.0</td>\n",
       "      <td>0.0</td>\n",
       "      <td>0.0</td>\n",
       "      <td>0.072287</td>\n",
       "      <td>0.001279</td>\n",
       "      <td>0.001279</td>\n",
       "      <td>0.018006</td>\n",
       "      <td>-0.108331</td>\n",
       "      <td>...</td>\n",
       "      <td>0.107273</td>\n",
       "      <td>0.137083</td>\n",
       "      <td>-0.111613</td>\n",
       "      <td>-0.071411</td>\n",
       "      <td>-0.184319</td>\n",
       "      <td>-0.091759</td>\n",
       "      <td>-0.041027</td>\n",
       "      <td>-0.212623</td>\n",
       "      <td>-0.021688</td>\n",
       "      <td>0.039228</td>\n",
       "    </tr>\n",
       "    <tr>\n",
       "      <th>3</th>\n",
       "      <td>1.0</td>\n",
       "      <td>4.0</td>\n",
       "      <td>4.0</td>\n",
       "      <td>0.0</td>\n",
       "      <td>0.0</td>\n",
       "      <td>0.077802</td>\n",
       "      <td>0.030950</td>\n",
       "      <td>0.030950</td>\n",
       "      <td>0.051592</td>\n",
       "      <td>0.463399</td>\n",
       "      <td>...</td>\n",
       "      <td>-0.074995</td>\n",
       "      <td>-0.080189</td>\n",
       "      <td>-0.187031</td>\n",
       "      <td>0.175852</td>\n",
       "      <td>-0.127135</td>\n",
       "      <td>0.278746</td>\n",
       "      <td>-0.012253</td>\n",
       "      <td>0.219821</td>\n",
       "      <td>-0.270466</td>\n",
       "      <td>0.138657</td>\n",
       "    </tr>\n",
       "    <tr>\n",
       "      <th>4</th>\n",
       "      <td>1.0</td>\n",
       "      <td>5.0</td>\n",
       "      <td>5.0</td>\n",
       "      <td>0.0</td>\n",
       "      <td>0.0</td>\n",
       "      <td>0.069337</td>\n",
       "      <td>-0.010523</td>\n",
       "      <td>-0.010523</td>\n",
       "      <td>0.052703</td>\n",
       "      <td>-0.169331</td>\n",
       "      <td>...</td>\n",
       "      <td>0.257036</td>\n",
       "      <td>-0.134697</td>\n",
       "      <td>-0.237487</td>\n",
       "      <td>-0.051890</td>\n",
       "      <td>0.287264</td>\n",
       "      <td>0.133619</td>\n",
       "      <td>0.249540</td>\n",
       "      <td>0.055350</td>\n",
       "      <td>0.084850</td>\n",
       "      <td>-0.245328</td>\n",
       "    </tr>\n",
       "    <tr>\n",
       "      <th>...</th>\n",
       "      <td>...</td>\n",
       "      <td>...</td>\n",
       "      <td>...</td>\n",
       "      <td>...</td>\n",
       "      <td>...</td>\n",
       "      <td>...</td>\n",
       "      <td>...</td>\n",
       "      <td>...</td>\n",
       "      <td>...</td>\n",
       "      <td>...</td>\n",
       "      <td>...</td>\n",
       "      <td>...</td>\n",
       "      <td>...</td>\n",
       "      <td>...</td>\n",
       "      <td>...</td>\n",
       "      <td>...</td>\n",
       "      <td>...</td>\n",
       "      <td>...</td>\n",
       "      <td>...</td>\n",
       "      <td>...</td>\n",
       "      <td>...</td>\n",
       "    </tr>\n",
       "    <tr>\n",
       "      <th>3995</th>\n",
       "      <td>4.0</td>\n",
       "      <td>996.0</td>\n",
       "      <td>3996.0</td>\n",
       "      <td>0.0</td>\n",
       "      <td>0.0</td>\n",
       "      <td>0.019627</td>\n",
       "      <td>0.010417</td>\n",
       "      <td>0.010417</td>\n",
       "      <td>0.046418</td>\n",
       "      <td>0.065133</td>\n",
       "      <td>...</td>\n",
       "      <td>-0.039759</td>\n",
       "      <td>0.073419</td>\n",
       "      <td>0.089404</td>\n",
       "      <td>0.284529</td>\n",
       "      <td>-0.292912</td>\n",
       "      <td>0.135677</td>\n",
       "      <td>0.322204</td>\n",
       "      <td>0.348651</td>\n",
       "      <td>-0.131375</td>\n",
       "      <td>0.316888</td>\n",
       "    </tr>\n",
       "    <tr>\n",
       "      <th>3996</th>\n",
       "      <td>4.0</td>\n",
       "      <td>997.0</td>\n",
       "      <td>3997.0</td>\n",
       "      <td>0.0</td>\n",
       "      <td>0.0</td>\n",
       "      <td>0.058759</td>\n",
       "      <td>0.023994</td>\n",
       "      <td>0.023994</td>\n",
       "      <td>0.042951</td>\n",
       "      <td>0.016602</td>\n",
       "      <td>...</td>\n",
       "      <td>0.332379</td>\n",
       "      <td>0.176475</td>\n",
       "      <td>-0.162137</td>\n",
       "      <td>-0.056921</td>\n",
       "      <td>-0.214425</td>\n",
       "      <td>-0.432524</td>\n",
       "      <td>0.273811</td>\n",
       "      <td>0.166416</td>\n",
       "      <td>-0.210791</td>\n",
       "      <td>-0.354413</td>\n",
       "    </tr>\n",
       "    <tr>\n",
       "      <th>3997</th>\n",
       "      <td>4.0</td>\n",
       "      <td>998.0</td>\n",
       "      <td>3998.0</td>\n",
       "      <td>0.0</td>\n",
       "      <td>0.0</td>\n",
       "      <td>0.061531</td>\n",
       "      <td>-0.041838</td>\n",
       "      <td>-0.041838</td>\n",
       "      <td>0.084295</td>\n",
       "      <td>0.091098</td>\n",
       "      <td>...</td>\n",
       "      <td>-0.446670</td>\n",
       "      <td>-0.524562</td>\n",
       "      <td>-0.478103</td>\n",
       "      <td>-0.494176</td>\n",
       "      <td>-0.209963</td>\n",
       "      <td>-0.310323</td>\n",
       "      <td>-0.682805</td>\n",
       "      <td>-0.405953</td>\n",
       "      <td>-0.318438</td>\n",
       "      <td>-0.663328</td>\n",
       "    </tr>\n",
       "    <tr>\n",
       "      <th>3998</th>\n",
       "      <td>4.0</td>\n",
       "      <td>999.0</td>\n",
       "      <td>3999.0</td>\n",
       "      <td>0.0</td>\n",
       "      <td>0.0</td>\n",
       "      <td>0.066424</td>\n",
       "      <td>-0.005366</td>\n",
       "      <td>-0.005366</td>\n",
       "      <td>0.041958</td>\n",
       "      <td>0.223351</td>\n",
       "      <td>...</td>\n",
       "      <td>-0.142927</td>\n",
       "      <td>-0.817978</td>\n",
       "      <td>-0.096561</td>\n",
       "      <td>-0.299479</td>\n",
       "      <td>-0.386758</td>\n",
       "      <td>-0.161949</td>\n",
       "      <td>-0.384393</td>\n",
       "      <td>-0.425821</td>\n",
       "      <td>-0.593521</td>\n",
       "      <td>-0.289611</td>\n",
       "    </tr>\n",
       "    <tr>\n",
       "      <th>3999</th>\n",
       "      <td>4.0</td>\n",
       "      <td>1000.0</td>\n",
       "      <td>4000.0</td>\n",
       "      <td>0.0</td>\n",
       "      <td>0.0</td>\n",
       "      <td>0.042431</td>\n",
       "      <td>0.011618</td>\n",
       "      <td>0.011618</td>\n",
       "      <td>0.058577</td>\n",
       "      <td>-0.057554</td>\n",
       "      <td>...</td>\n",
       "      <td>0.100452</td>\n",
       "      <td>0.309371</td>\n",
       "      <td>0.658288</td>\n",
       "      <td>0.365754</td>\n",
       "      <td>-0.008609</td>\n",
       "      <td>0.431989</td>\n",
       "      <td>0.083991</td>\n",
       "      <td>0.072915</td>\n",
       "      <td>0.110917</td>\n",
       "      <td>0.007762</td>\n",
       "    </tr>\n",
       "  </tbody>\n",
       "</table>\n",
       "<p>4000 rows × 2011 columns</p>\n",
       "</div>"
      ],
      "text/plain": [
       "      chain__  iter__  draw__  lp__  accept_stat__  Sigma[1,1]  Sigma[2,1]  \\\n",
       "0         1.0     1.0     1.0   0.0            0.0    0.046364    0.020595   \n",
       "1         1.0     2.0     2.0   0.0            0.0    0.057285    0.014369   \n",
       "2         1.0     3.0     3.0   0.0            0.0    0.072287    0.001279   \n",
       "3         1.0     4.0     4.0   0.0            0.0    0.077802    0.030950   \n",
       "4         1.0     5.0     5.0   0.0            0.0    0.069337   -0.010523   \n",
       "...       ...     ...     ...   ...            ...         ...         ...   \n",
       "3995      4.0   996.0  3996.0   0.0            0.0    0.019627    0.010417   \n",
       "3996      4.0   997.0  3997.0   0.0            0.0    0.058759    0.023994   \n",
       "3997      4.0   998.0  3998.0   0.0            0.0    0.061531   -0.041838   \n",
       "3998      4.0   999.0  3999.0   0.0            0.0    0.066424   -0.005366   \n",
       "3999      4.0  1000.0  4000.0   0.0            0.0    0.042431    0.011618   \n",
       "\n",
       "      Sigma[1,2]  Sigma[2,2]     mu[1]  ...  y_sim[991,2]  y_sim[992,2]  \\\n",
       "0       0.020595    0.070857  0.263810  ...      0.278204     -0.203835   \n",
       "1       0.014369    0.076699  0.363084  ...      0.079331      0.123278   \n",
       "2       0.001279    0.018006 -0.108331  ...      0.107273      0.137083   \n",
       "3       0.030950    0.051592  0.463399  ...     -0.074995     -0.080189   \n",
       "4      -0.010523    0.052703 -0.169331  ...      0.257036     -0.134697   \n",
       "...          ...         ...       ...  ...           ...           ...   \n",
       "3995    0.010417    0.046418  0.065133  ...     -0.039759      0.073419   \n",
       "3996    0.023994    0.042951  0.016602  ...      0.332379      0.176475   \n",
       "3997   -0.041838    0.084295  0.091098  ...     -0.446670     -0.524562   \n",
       "3998   -0.005366    0.041958  0.223351  ...     -0.142927     -0.817978   \n",
       "3999    0.011618    0.058577 -0.057554  ...      0.100452      0.309371   \n",
       "\n",
       "      y_sim[993,2]  y_sim[994,2]  y_sim[995,2]  y_sim[996,2]  y_sim[997,2]  \\\n",
       "0         0.302421      0.211318      0.501154      0.206671      0.295757   \n",
       "1         0.208501     -0.160304      0.557745      0.839187      0.435143   \n",
       "2        -0.111613     -0.071411     -0.184319     -0.091759     -0.041027   \n",
       "3        -0.187031      0.175852     -0.127135      0.278746     -0.012253   \n",
       "4        -0.237487     -0.051890      0.287264      0.133619      0.249540   \n",
       "...            ...           ...           ...           ...           ...   \n",
       "3995      0.089404      0.284529     -0.292912      0.135677      0.322204   \n",
       "3996     -0.162137     -0.056921     -0.214425     -0.432524      0.273811   \n",
       "3997     -0.478103     -0.494176     -0.209963     -0.310323     -0.682805   \n",
       "3998     -0.096561     -0.299479     -0.386758     -0.161949     -0.384393   \n",
       "3999      0.658288      0.365754     -0.008609      0.431989      0.083991   \n",
       "\n",
       "      y_sim[998,2]  y_sim[999,2]  y_sim[1000,2]  \n",
       "0         0.438505      0.401828       0.440601  \n",
       "1         0.056666      0.662216       0.434206  \n",
       "2        -0.212623     -0.021688       0.039228  \n",
       "3         0.219821     -0.270466       0.138657  \n",
       "4         0.055350      0.084850      -0.245328  \n",
       "...            ...           ...            ...  \n",
       "3995      0.348651     -0.131375       0.316888  \n",
       "3996      0.166416     -0.210791      -0.354413  \n",
       "3997     -0.405953     -0.318438      -0.663328  \n",
       "3998     -0.425821     -0.593521      -0.289611  \n",
       "3999      0.072915      0.110917       0.007762  \n",
       "\n",
       "[4000 rows x 2011 columns]"
      ]
     },
     "execution_count": 6,
     "metadata": {},
     "output_type": "execute_result"
    }
   ],
   "source": [
    "fit2.draws_pd()"
   ]
  },
  {
   "cell_type": "code",
   "execution_count": 7,
   "id": "21e4adc5-13f5-42db-9a2d-dbd316c4078c",
   "metadata": {},
   "outputs": [
    {
     "data": {
      "text/plain": [
       "<matplotlib.collections.PathCollection at 0x7f639856e3d0>"
      ]
     },
     "execution_count": 7,
     "metadata": {},
     "output_type": "execute_result"
    },
    {
     "data": {
      "image/png": "[encoded data removed]",
      "text/plain": [
       "<Figure size 640x480 with 1 Axes>"
      ]
     },
     "metadata": {},
     "output_type": "display_data"
    }
   ],
   "source": [
    "plt.scatter(fit2.y_sim[:, 0], fit2.y_sim[:, 1])"
   ]
  },
  {
   "cell_type": "markdown",
   "id": "04480778-3e4f-4e61-a485-655bf0760b22",
   "metadata": {},
   "source": [
    "Centered at (0,0)"
   ]
  },
  {
   "cell_type": "markdown",
   "id": "9fb3faea-e269-4461-a704-b969d61db5d0",
   "metadata": {},
   "source": [
    "3.\n",
    "\n",
    "Simulate parameters from the posterior using `stan`. Describe how to treat diagnostics, and then interpret and display your results. Take note of any interesting findings regarding parameter estimates. \n",
    "\n",
    "Try to use [`hist2d()`](https://matplotlib.org/3.1.1/api/_as_gen/matplotlib.pyplot.hist2d.html) to visualize the posteriof of $\\mu$.\n",
    "For visualizing the covariance matrix samples, just plot the three unique values on overlaid histograms.\n",
    "                                                   "
   ]
  },
  {
   "cell_type": "code",
   "execution_count": 8,
   "id": "f00661cd-c2a0-4beb-8ea0-1abc63af4399",
   "metadata": {},
   "outputs": [],
   "source": [
    "model_code3 = stan_file = os.path.join('.', 'hw63.stan')\n",
    "model3 = CmdStanModel(stan_file=model_code3)"
   ]
  },
  {
   "cell_type": "code",
   "execution_count": 9,
   "id": "607c7f52-5f4c-4a9f-84e9-9f23ddf09bbc",
   "metadata": {},
   "outputs": [
    {
     "name": "stderr",
     "output_type": "stream",
     "text": [
      "01:31:39 - cmdstanpy - INFO - CmdStan start processing\n"
     ]
    },
    {
     "data": {
      "application/vnd.jupyter.widget-view+json": {
       "model_id": "d659f12d10de4573bb6e44f6f3100eda",
       "version_major": 2,
       "version_minor": 0
      },
      "text/plain": [
       "chain 1 |          | 00:00 Status"
      ]
     },
     "metadata": {},
     "output_type": "display_data"
    },
    {
     "data": {
      "application/vnd.jupyter.widget-view+json": {
       "model_id": "ce3e237f26ed4ec8823efc1de9573a4f",
       "version_major": 2,
       "version_minor": 0
      },
      "text/plain": [
       "chain 2 |          | 00:00 Status"
      ]
     },
     "metadata": {},
     "output_type": "display_data"
    },
    {
     "data": {
      "application/vnd.jupyter.widget-view+json": {
       "model_id": "4c98887291eb4ef5bf8623397f4a338c",
       "version_major": 2,
       "version_minor": 0
      },
      "text/plain": [
       "chain 3 |          | 00:00 Status"
      ]
     },
     "metadata": {},
     "output_type": "display_data"
    },
    {
     "data": {
      "application/vnd.jupyter.widget-view+json": {
       "model_id": "a88ea4fb1ba947a88f1d933d8ebea7f0",
       "version_major": 2,
       "version_minor": 0
      },
      "text/plain": [
       "chain 4 |          | 00:00 Status"
      ]
     },
     "metadata": {},
     "output_type": "display_data"
    },
    {
     "name": "stdout",
     "output_type": "stream",
     "text": [
      "                                                                                                                                                                                                                                                                                                                                "
     ]
    },
    {
     "name": "stderr",
     "output_type": "stream",
     "text": [
      "01:31:58 - cmdstanpy - INFO - CmdStan done processing.\n",
      "01:31:58 - cmdstanpy - WARNING - Non-fatal error during sampling:\n",
      "Exception: inv_wishart_lpdf: random variable is not symmetric. random variable[1,2] = -nan, but random variable[2,1] = -nan (in 'hw63.stan', line 14, column 2 to column 49)\n",
      "\tException: inv_wishart_lpdf: random variable is not symmetric. random variable[1,2] = -nan, but random variable[2,1] = -nan (in 'hw63.stan', line 14, column 2 to column 49)\n",
      "\tException: inv_wishart_lpdf: random variable is not symmetric. random variable[1,2] = -nan, but random variable[2,1] = -nan (in 'hw63.stan', line 14, column 2 to column 49)\n",
      "\tException: inv_wishart_lpdf: random variable is not symmetric. random variable[1,2] = -nan, but random variable[2,1] = -nan (in 'hw63.stan', line 14, column 2 to column 49)\n",
      "\tException: inv_wishart_lpdf: LDLT_Factor of random variable is not positive definite.  last conditional variance is -nan. (in 'hw63.stan', line 14, column 2 to column 49)\n",
      "\tException: inv_wishart_lpdf: random variable is not symmetric. random variable[1,2] = -nan, but random variable[2,1] = -nan (in 'hw63.stan', line 14, column 2 to column 49)\n",
      "\tException: inv_wishart_lpdf: random variable is not symmetric. random variable[1,2] = -nan, but random variable[2,1] = -nan (in 'hw63.stan', line 14, column 2 to column 49)\n",
      "\tException: inv_wishart_lpdf: random variable is not symmetric. random variable[1,2] = -nan, but random variable[2,1] = -nan (in 'hw63.stan', line 14, column 2 to column 49)\n",
      "Exception: inv_wishart_lpdf: random variable is not symmetric. random variable[1,2] = inf, but random variable[2,1] = inf (in 'hw63.stan', line 14, column 2 to column 49)\n",
      "\tException: inv_wishart_lpdf: random variable is not symmetric. random variable[1,2] = inf, but random variable[2,1] = inf (in 'hw63.stan', line 14, column 2 to column 49)\n",
      "\tException: inv_wishart_lpdf: random variable is not symmetric. random variable[1,2] = inf, but random variable[2,1] = inf (in 'hw63.stan', line 14, column 2 to column 49)\n",
      "\tException: inv_wishart_lpdf: LDLT_Factor of random variable is not positive definite.  last conditional variance is -2.77556e-17. (in 'hw63.stan', line 14, column 2 to column 49)\n",
      "\tException: inv_wishart_lpdf: random variable is not symmetric. random variable[1,2] = inf, but random variable[2,1] = inf (in 'hw63.stan', line 14, column 2 to column 49)\n",
      "\tException: inv_wishart_lpdf: LDLT_Factor of random variable is not positive definite.  last conditional variance is -nan. (in 'hw63.stan', line 14, column 2 to column 49)\n",
      "\tException: inv_wishart_lpdf: LDLT_Factor of random variable is not positive definite.  last conditional variance is -1.77636e-15. (in 'hw63.stan', line 14, column 2 to column 49)\n",
      "Exception: inv_wishart_lpdf: LDLT_Factor of random variable is not positive definite.  last conditional variance is 0. (in 'hw63.stan', line 14, column 2 to column 49)\n",
      "\tException: inv_wishart_lpdf: LDLT_Factor of random variable is not positive definite.  last conditional variance is 0. (in 'hw63.stan', line 14, column 2 to column 49)\n",
      "\tException: inv_wishart_lpdf: LDLT_Factor of random variable is not positive definite.  last conditional variance is -2.2324e-103. (in 'hw63.stan', line 14, column 2 to column 49)\n",
      "\tException: inv_wishart_lpdf: LDLT_Factor of random variable is not positive definite.  last conditional variance is 0. (in 'hw63.stan', line 14, column 2 to column 49)\n",
      "\tException: inv_wishart_lpdf: LDLT_Factor of random variable is not positive definite.  last conditional variance is 0. (in 'hw63.stan', line 14, column 2 to column 49)\n",
      "\tException: inv_wishart_lpdf: LDLT_Factor of random variable is not positive definite.  last conditional variance is -8.63617e-78. (in 'hw63.stan', line 14, column 2 to column 49)\n",
      "Exception: inv_wishart_lpdf: random variable is not symmetric. random variable[1,2] = -nan, but random variable[2,1] = -nan (in 'hw63.stan', line 14, column 2 to column 49)\n",
      "\tException: inv_wishart_lpdf: random variable is not symmetric. random variable[1,2] = -nan, but random variable[2,1] = -nan (in 'hw63.stan', line 14, column 2 to column 49)\n",
      "\tException: inv_wishart_lpdf: random variable is not symmetric. random variable[1,2] = -inf, but random variable[2,1] = -inf (in 'hw63.stan', line 14, column 2 to column 49)\n",
      "\tException: inv_wishart_lpdf: LDLT_Factor of random variable is not positive definite.  last conditional variance is -nan. (in 'hw63.stan', line 14, column 2 to column 49)\n",
      "\tException: inv_wishart_lpdf: random variable is not symmetric. random variable[1,2] = -nan, but random variable[2,1] = -nan (in 'hw63.stan', line 14, column 2 to column 49)\n",
      "\tException: inv_wishart_lpdf: random variable is not symmetric. random variable[1,2] = -nan, but random variable[2,1] = -nan (in 'hw63.stan', line 14, column 2 to column 49)\n",
      "Consider re-running with show_console=True if the above output is unclear!\n"
     ]
    },
    {
     "name": "stdout",
     "output_type": "stream",
     "text": [
      "\n"
     ]
    }
   ],
   "source": [
    "returns_data3 = {'n' : rets.shape[0], \n",
    "                'd' : rets.shape[1],\n",
    "                'y': rets.values.transpose(),\n",
    "                'diag_cov' : [1/2,1/3]}\n",
    "fit3 = model3.sample(returns_data3)"
   ]
  },
  {
   "cell_type": "code",
   "execution_count": 10,
   "id": "d93426b0-4e6b-4443-95a8-c50df458cded",
   "metadata": {},
   "outputs": [
    {
     "data": {
      "text/plain": [
       "lp__          1.00355\n",
       "mu[1]         1.00038\n",
       "mu[2]         1.00059\n",
       "Sigma[1,1]    1.00279\n",
       "Sigma[1,2]    1.00303\n",
       "Sigma[2,1]    1.00303\n",
       "Sigma[2,2]    1.00322\n",
       "Name: R_hat, dtype: float64"
      ]
     },
     "execution_count": 10,
     "metadata": {},
     "output_type": "execute_result"
    }
   ],
   "source": [
    "fit3.summary()['R_hat']"
   ]
  },
  {
   "cell_type": "code",
   "execution_count": 11,
   "id": "dc8bb736-0bf7-41ec-bbf9-71cf029c74da",
   "metadata": {},
   "outputs": [
    {
     "data": {
      "text/plain": [
       "<Axes: >"
      ]
     },
     "execution_count": 11,
     "metadata": {},
     "output_type": "execute_result"
    },
    {
     "data": {
      "image/png": "[encoded data removed]",
      "text/plain": [
       "<Figure size 640x480 with 1 Axes>"
      ]
     },
     "metadata": {},
     "output_type": "display_data"
    }
   ],
   "source": [
    "fit3.draws_pd()[['mu[1]','mu[2]']].plot()"
   ]
  },
  {
   "cell_type": "code",
   "execution_count": 12,
   "id": "02c200ed-e1e6-4068-a797-6e2e0df956da",
   "metadata": {},
   "outputs": [
    {
     "data": {
      "text/plain": [
       "(array([[ 11.,   9.,   1.,   0.,   0.,   0.,   0.,   0.,   0.,   0.],\n",
       "        [  1.,  42.,  28.,   3.,   0.,   0.,   0.,   0.,   0.,   0.],\n",
       "        [  0.,  20., 155., 115.,   6.,   0.,   0.,   0.,   0.,   0.],\n",
       "        [  0.,   1.,  69., 401., 187.,   4.,   0.,   0.,   0.,   0.],\n",
       "        [  0.,   0.,   3., 158., 643., 228.,   4.,   0.,   0.,   0.],\n",
       "        [  0.,   0.,   0.,   1., 247., 569., 159.,   2.,   0.,   0.],\n",
       "        [  0.,   0.,   0.,   0.,   8., 195., 366.,  53.,   1.,   0.],\n",
       "        [  0.,   0.,   0.,   0.,   0.,   6.,  89., 144.,  16.,   0.],\n",
       "        [  0.,   0.,   0.,   0.,   0.,   0.,   1.,  26.,  19.,   3.],\n",
       "        [  0.,   0.,   0.,   0.,   0.,   0.,   0.,   1.,   3.,   2.]]),\n",
       " array([-0.0972171 , -0.06655589, -0.03589468, -0.00523347,  0.02542774,\n",
       "         0.05608895,  0.08675016,  0.11741137,  0.14807258,  0.17873379,\n",
       "         0.209395  ]),\n",
       " array([-0.106606 , -0.0685229, -0.0304398,  0.0076433,  0.0457264,\n",
       "         0.0838095,  0.1218926,  0.1599757,  0.1980588,  0.2361419,\n",
       "         0.274225 ]),\n",
       " <matplotlib.collections.QuadMesh at 0x7f639846e510>)"
      ]
     },
     "execution_count": 12,
     "metadata": {},
     "output_type": "execute_result"
    },
    {
     "data": {
      "image/png": "[encoded data removed]",
      "text/plain": [
       "<Figure size 640x480 with 1 Axes>"
      ]
     },
     "metadata": {},
     "output_type": "display_data"
    }
   ],
   "source": [
    "plt.hist2d(fit3.draws_pd()['mu[1]'], fit3.draws_pd()['mu[2]'])"
   ]
  },
  {
   "cell_type": "code",
   "execution_count": 13,
   "id": "6c11c54d-a811-4fc3-8675-a361765510bb",
   "metadata": {},
   "outputs": [
    {
     "data": {
      "text/plain": [
       "<Axes: >"
      ]
     },
     "execution_count": 13,
     "metadata": {},
     "output_type": "execute_result"
    },
    {
     "data": {
      "image/png": "[encoded data removed]",
      "text/plain": [
       "<Figure size 640x480 with 1 Axes>"
      ]
     },
     "metadata": {},
     "output_type": "display_data"
    }
   ],
   "source": [
    "fit3.draws_pd()[['Sigma[1,1]','Sigma[2,1]', 'Sigma[1,2]', 'Sigma[2,2]']].plot()"
   ]
  },
  {
   "cell_type": "code",
   "execution_count": 14,
   "id": "6c6e1ef0-8c58-4a2c-8955-0a33261a0530",
   "metadata": {},
   "outputs": [
    {
     "data": {
      "text/plain": [
       "<Axes: >"
      ]
     },
     "execution_count": 14,
     "metadata": {},
     "output_type": "execute_result"
    },
    {
     "data": {
      "image/png": "[encoded data removed]",
      "text/plain": [
       "<Figure size 640x480 with 1 Axes>"
      ]
     },
     "metadata": {},
     "output_type": "display_data"
    }
   ],
   "source": [
    "fit3.draws_pd()['Sigma[1,1]'].hist(color='blue')\n",
    "fit3.draws_pd()['Sigma[1,2]'].hist(color='green')\n",
    "fit3.draws_pd()['Sigma[2,2]'].hist(color='red')"
   ]
  },
  {
   "cell_type": "markdown",
   "id": "17e287e6-171f-4dd6-ad26-805d7ecdf083",
   "metadata": {},
   "source": [
    "4.\n",
    "\n",
    "Take your chosen portfolio weights from homework 4 and simulate portfolio returns from the posterior predictive distribution. Are they \"good?\" Visualize them in a variety of interesting ways!\n",
    "\n",
    "How do these returns compare with \"backtested\" returns? In other words, how do these simulated returns compare with taking the same weight vector, and seeing how they did retrospectively on \"real\" (not simulated) data. \n",
    "\n",
    "Keep in mind that retrospective analysis is not always indicative of future results!"
   ]
  },
  {
   "cell_type": "code",
   "execution_count": 15,
   "id": "8b4a872c-45ef-436e-9b14-8d3fb12568c4",
   "metadata": {},
   "outputs": [],
   "source": [
    "model_code5 = os.path.join('.', 'hw65.stan')\n",
    "model5 = CmdStanModel(stan_file=model_code5)"
   ]
  },
  {
   "cell_type": "code",
   "execution_count": 16,
   "id": "b07a39a2-80d0-4002-98c8-c6c4cc5477d6",
   "metadata": {},
   "outputs": [
    {
     "name": "stderr",
     "output_type": "stream",
     "text": [
      "01:32:15 - cmdstanpy - INFO - CmdStan start processing\n"
     ]
    },
    {
     "data": {
      "application/vnd.jupyter.widget-view+json": {
       "model_id": "adc7c22b599240a095ef96528008cc4b",
       "version_major": 2,
       "version_minor": 0
      },
      "text/plain": [
       "chain 1 |          | 00:00 Status"
      ]
     },
     "metadata": {},
     "output_type": "display_data"
    },
    {
     "data": {
      "application/vnd.jupyter.widget-view+json": {
       "model_id": "3643d5eeab9a4029951727bd6b55a4b1",
       "version_major": 2,
       "version_minor": 0
      },
      "text/plain": [
       "chain 2 |          | 00:00 Status"
      ]
     },
     "metadata": {},
     "output_type": "display_data"
    },
    {
     "data": {
      "application/vnd.jupyter.widget-view+json": {
       "model_id": "9e7332a3ce5244ec8dbc0883b37c7e9a",
       "version_major": 2,
       "version_minor": 0
      },
      "text/plain": [
       "chain 3 |          | 00:00 Status"
      ]
     },
     "metadata": {},
     "output_type": "display_data"
    },
    {
     "data": {
      "application/vnd.jupyter.widget-view+json": {
       "model_id": "95f4f2b813c04a1f972ad32d09ff3a5f",
       "version_major": 2,
       "version_minor": 0
      },
      "text/plain": [
       "chain 4 |          | 00:00 Status"
      ]
     },
     "metadata": {},
     "output_type": "display_data"
    },
    {
     "name": "stdout",
     "output_type": "stream",
     "text": [
      "                                                                                                                                                                                                                                                                                                                                "
     ]
    },
    {
     "name": "stderr",
     "output_type": "stream",
     "text": [
      "01:32:34 - cmdstanpy - INFO - CmdStan done processing.\n",
      "01:32:34 - cmdstanpy - WARNING - Non-fatal error during sampling:\n",
      "Exception: inv_wishart_lpdf: random variable is not symmetric. random variable[1,2] = inf, but random variable[2,1] = inf (in 'hw65.stan', line 14, column 2 to column 49)\n",
      "\tException: inv_wishart_lpdf: random variable is not symmetric. random variable[1,2] = inf, but random variable[2,1] = inf (in 'hw65.stan', line 14, column 2 to column 49)\n",
      "\tException: inv_wishart_lpdf: random variable is not symmetric. random variable[1,2] = inf, but random variable[2,1] = inf (in 'hw65.stan', line 14, column 2 to column 49)\n",
      "\tException: inv_wishart_lpdf: random variable is not symmetric. random variable[1,2] = inf, but random variable[2,1] = inf (in 'hw65.stan', line 14, column 2 to column 49)\n",
      "\tException: inv_wishart_lpdf: random variable is not symmetric. random variable[1,2] = inf, but random variable[2,1] = inf (in 'hw65.stan', line 14, column 2 to column 49)\n",
      "\tException: inv_wishart_lpdf: random variable is not symmetric. random variable[1,2] = inf, but random variable[2,1] = inf (in 'hw65.stan', line 14, column 2 to column 49)\n",
      "Exception: inv_wishart_lpdf: random variable is not symmetric. random variable[1,2] = -inf, but random variable[2,1] = -inf (in 'hw65.stan', line 14, column 2 to column 49)\n",
      "\tException: inv_wishart_lpdf: random variable is not symmetric. random variable[1,2] = -inf, but random variable[2,1] = -inf (in 'hw65.stan', line 14, column 2 to column 49)\n",
      "\tException: inv_wishart_lpdf: random variable is not symmetric. random variable[1,2] = -inf, but random variable[2,1] = -inf (in 'hw65.stan', line 14, column 2 to column 49)\n",
      "\tException: inv_wishart_lpdf: random variable is not symmetric. random variable[1,2] = -inf, but random variable[2,1] = -inf (in 'hw65.stan', line 14, column 2 to column 49)\n",
      "\tException: inv_wishart_lpdf: LDLT_Factor of random variable is not positive definite.  last conditional variance is -nan. (in 'hw65.stan', line 14, column 2 to column 49)\n",
      "\tException: inv_wishart_lpdf: random variable is not symmetric. random variable[1,2] = -inf, but random variable[2,1] = -inf (in 'hw65.stan', line 14, column 2 to column 49)\n",
      "\tException: inv_wishart_lpdf: random variable is not symmetric. random variable[1,2] = -inf, but random variable[2,1] = -inf (in 'hw65.stan', line 14, column 2 to column 49)\n",
      "\tException: inv_wishart_lpdf: LDLT_Factor of random variable is not positive definite.  last conditional variance is -nan. (in 'hw65.stan', line 14, column 2 to column 49)\n",
      "Exception: inv_wishart_lpdf: random variable is not symmetric. random variable[1,2] = -nan, but random variable[2,1] = -nan (in 'hw65.stan', line 14, column 2 to column 49)\n",
      "\tException: inv_wishart_lpdf: random variable is not symmetric. random variable[1,2] = -nan, but random variable[2,1] = -nan (in 'hw65.stan', line 14, column 2 to column 49)\n",
      "\tException: inv_wishart_lpdf: random variable is not symmetric. random variable[1,2] = -nan, but random variable[2,1] = -nan (in 'hw65.stan', line 14, column 2 to column 49)\n",
      "\tException: inv_wishart_lpdf: random variable is not symmetric. random variable[1,2] = -nan, but random variable[2,1] = -nan (in 'hw65.stan', line 14, column 2 to column 49)\n",
      "\tException: inv_wishart_lpdf: random variable is not symmetric. random variable[1,2] = -nan, but random variable[2,1] = -nan (in 'hw65.stan', line 14, column 2 to column 49)\n",
      "\tException: inv_wishart_lpdf: random variable is not symmetric. random variable[1,2] = -nan, but random variable[2,1] = -nan (in 'hw65.stan', line 14, column 2 to column 49)\n",
      "\tException: inv_wishart_lpdf: random variable is not symmetric. random variable[1,2] = -nan, but random variable[2,1] = -nan (in 'hw65.stan', line 14, column 2 to column 49)\n",
      "\tException: inv_wishart_lpdf: random variable is not symmetric. random variable[1,2] = -nan, but random variable[2,1] = -nan (in 'hw65.stan', line 14, column 2 to column 49)\n",
      "\tException: inv_wishart_lpdf: random variable is not symmetric. random variable[1,2] = -nan, but random variable[2,1] = -nan (in 'hw65.stan', line 14, column 2 to column 49)\n",
      "Exception: inv_wishart_lpdf: random variable is not symmetric. random variable[1,2] = -nan, but random variable[2,1] = -nan (in 'hw65.stan', line 14, column 2 to column 49)\n",
      "\tException: inv_wishart_lpdf: random variable is not symmetric. random variable[1,2] = -nan, but random variable[2,1] = -nan (in 'hw65.stan', line 14, column 2 to column 49)\n",
      "\tException: inv_wishart_lpdf: random variable is not symmetric. random variable[1,2] = -nan, but random variable[2,1] = -nan (in 'hw65.stan', line 14, column 2 to column 49)\n",
      "\tException: inv_wishart_lpdf: random variable is not symmetric. random variable[1,2] = -nan, but random variable[2,1] = -nan (in 'hw65.stan', line 14, column 2 to column 49)\n",
      "\tException: inv_wishart_lpdf: random variable is not symmetric. random variable[1,2] = -nan, but random variable[2,1] = -nan (in 'hw65.stan', line 14, column 2 to column 49)\n",
      "\tException: inv_wishart_lpdf: random variable is not symmetric. random variable[1,2] = -nan, but random variable[2,1] = -nan (in 'hw65.stan', line 14, column 2 to column 49)\n",
      "Consider re-running with show_console=True if the above output is unclear!\n"
     ]
    },
    {
     "name": "stdout",
     "output_type": "stream",
     "text": [
      "\n"
     ]
    }
   ],
   "source": [
    "returns_data5 = {'n' : rets.shape[0], \n",
    "                'd' : rets.shape[1],\n",
    "                'y': rets.values.transpose(),\n",
    "                'diag_cov' : [1/2,1/3]}\n",
    "fit5 = model5.sample(returns_data5)"
   ]
  },
  {
   "cell_type": "code",
   "execution_count": 17,
   "id": "b80653a3-5182-40a6-bd46-6b413367b0cd",
   "metadata": {},
   "outputs": [
    {
     "data": {
      "text/plain": [
       "lp__          1.000010\n",
       "mu[1]         1.000610\n",
       "mu[2]         1.000530\n",
       "Sigma[1,1]    1.000130\n",
       "Sigma[1,2]    1.000000\n",
       "Sigma[2,1]    1.000000\n",
       "Sigma[2,2]    0.999834\n",
       "y_tilde[1]    1.000090\n",
       "y_tilde[2]    0.999863\n",
       "Name: R_hat, dtype: float64"
      ]
     },
     "execution_count": 17,
     "metadata": {},
     "output_type": "execute_result"
    }
   ],
   "source": [
    "fit5.summary()['R_hat']"
   ]
  },
  {
   "cell_type": "code",
   "execution_count": 18,
   "id": "d943d4e8-b51c-4946-bdc1-b40ec9ec5f38",
   "metadata": {},
   "outputs": [
    {
     "data": {
      "text/html": [
       "<div>\n",
       "<style scoped>\n",
       "    .dataframe tbody tr th:only-of-type {\n",
       "        vertical-align: middle;\n",
       "    }\n",
       "\n",
       "    .dataframe tbody tr th {\n",
       "        vertical-align: top;\n",
       "    }\n",
       "\n",
       "    .dataframe thead th {\n",
       "        text-align: right;\n",
       "    }\n",
       "</style>\n",
       "<table border=\"1\" class=\"dataframe\">\n",
       "  <thead>\n",
       "    <tr style=\"text-align: right;\">\n",
       "      <th></th>\n",
       "      <th>chain__</th>\n",
       "      <th>iter__</th>\n",
       "      <th>draw__</th>\n",
       "      <th>lp__</th>\n",
       "      <th>accept_stat__</th>\n",
       "      <th>stepsize__</th>\n",
       "      <th>treedepth__</th>\n",
       "      <th>n_leapfrog__</th>\n",
       "      <th>divergent__</th>\n",
       "      <th>energy__</th>\n",
       "      <th>mu[1]</th>\n",
       "      <th>mu[2]</th>\n",
       "      <th>Sigma[1,1]</th>\n",
       "      <th>Sigma[2,1]</th>\n",
       "      <th>Sigma[1,2]</th>\n",
       "      <th>Sigma[2,2]</th>\n",
       "      <th>y_tilde[1]</th>\n",
       "      <th>y_tilde[2]</th>\n",
       "    </tr>\n",
       "  </thead>\n",
       "  <tbody>\n",
       "    <tr>\n",
       "      <th>0</th>\n",
       "      <td>1.0</td>\n",
       "      <td>1.0</td>\n",
       "      <td>1.0</td>\n",
       "      <td>-894.748</td>\n",
       "      <td>0.808802</td>\n",
       "      <td>0.248425</td>\n",
       "      <td>3.0</td>\n",
       "      <td>7.0</td>\n",
       "      <td>0.0</td>\n",
       "      <td>900.399</td>\n",
       "      <td>0.025692</td>\n",
       "      <td>0.012008</td>\n",
       "      <td>2.07368</td>\n",
       "      <td>2.32978</td>\n",
       "      <td>2.32978</td>\n",
       "      <td>3.01595</td>\n",
       "      <td>0.917490</td>\n",
       "      <td>1.529210</td>\n",
       "    </tr>\n",
       "    <tr>\n",
       "      <th>1</th>\n",
       "      <td>1.0</td>\n",
       "      <td>2.0</td>\n",
       "      <td>2.0</td>\n",
       "      <td>-894.326</td>\n",
       "      <td>0.938312</td>\n",
       "      <td>0.248425</td>\n",
       "      <td>4.0</td>\n",
       "      <td>15.0</td>\n",
       "      <td>0.0</td>\n",
       "      <td>897.596</td>\n",
       "      <td>0.057412</td>\n",
       "      <td>0.084724</td>\n",
       "      <td>2.17716</td>\n",
       "      <td>2.43351</td>\n",
       "      <td>2.43351</td>\n",
       "      <td>3.10038</td>\n",
       "      <td>0.438546</td>\n",
       "      <td>0.581381</td>\n",
       "    </tr>\n",
       "    <tr>\n",
       "      <th>2</th>\n",
       "      <td>1.0</td>\n",
       "      <td>3.0</td>\n",
       "      <td>3.0</td>\n",
       "      <td>-894.764</td>\n",
       "      <td>0.972824</td>\n",
       "      <td>0.248425</td>\n",
       "      <td>4.0</td>\n",
       "      <td>15.0</td>\n",
       "      <td>0.0</td>\n",
       "      <td>896.124</td>\n",
       "      <td>0.120412</td>\n",
       "      <td>0.149101</td>\n",
       "      <td>2.12885</td>\n",
       "      <td>2.40475</td>\n",
       "      <td>2.40475</td>\n",
       "      <td>3.10088</td>\n",
       "      <td>-1.804400</td>\n",
       "      <td>-2.771410</td>\n",
       "    </tr>\n",
       "    <tr>\n",
       "      <th>3</th>\n",
       "      <td>1.0</td>\n",
       "      <td>4.0</td>\n",
       "      <td>4.0</td>\n",
       "      <td>-894.994</td>\n",
       "      <td>0.825819</td>\n",
       "      <td>0.248425</td>\n",
       "      <td>4.0</td>\n",
       "      <td>15.0</td>\n",
       "      <td>0.0</td>\n",
       "      <td>898.727</td>\n",
       "      <td>-0.030491</td>\n",
       "      <td>0.001403</td>\n",
       "      <td>2.09125</td>\n",
       "      <td>2.33870</td>\n",
       "      <td>2.33870</td>\n",
       "      <td>3.01320</td>\n",
       "      <td>0.925627</td>\n",
       "      <td>1.060810</td>\n",
       "    </tr>\n",
       "    <tr>\n",
       "      <th>4</th>\n",
       "      <td>1.0</td>\n",
       "      <td>5.0</td>\n",
       "      <td>5.0</td>\n",
       "      <td>-893.347</td>\n",
       "      <td>0.991629</td>\n",
       "      <td>0.248425</td>\n",
       "      <td>4.0</td>\n",
       "      <td>15.0</td>\n",
       "      <td>0.0</td>\n",
       "      <td>896.643</td>\n",
       "      <td>0.039387</td>\n",
       "      <td>0.047146</td>\n",
       "      <td>2.04045</td>\n",
       "      <td>2.27960</td>\n",
       "      <td>2.27960</td>\n",
       "      <td>2.95372</td>\n",
       "      <td>-0.077980</td>\n",
       "      <td>0.650738</td>\n",
       "    </tr>\n",
       "    <tr>\n",
       "      <th>...</th>\n",
       "      <td>...</td>\n",
       "      <td>...</td>\n",
       "      <td>...</td>\n",
       "      <td>...</td>\n",
       "      <td>...</td>\n",
       "      <td>...</td>\n",
       "      <td>...</td>\n",
       "      <td>...</td>\n",
       "      <td>...</td>\n",
       "      <td>...</td>\n",
       "      <td>...</td>\n",
       "      <td>...</td>\n",
       "      <td>...</td>\n",
       "      <td>...</td>\n",
       "      <td>...</td>\n",
       "      <td>...</td>\n",
       "      <td>...</td>\n",
       "      <td>...</td>\n",
       "    </tr>\n",
       "    <tr>\n",
       "      <th>3995</th>\n",
       "      <td>4.0</td>\n",
       "      <td>996.0</td>\n",
       "      <td>3996.0</td>\n",
       "      <td>-894.035</td>\n",
       "      <td>0.974834</td>\n",
       "      <td>0.242629</td>\n",
       "      <td>4.0</td>\n",
       "      <td>15.0</td>\n",
       "      <td>0.0</td>\n",
       "      <td>895.442</td>\n",
       "      <td>0.016435</td>\n",
       "      <td>0.064215</td>\n",
       "      <td>2.06798</td>\n",
       "      <td>2.32896</td>\n",
       "      <td>2.32896</td>\n",
       "      <td>3.01449</td>\n",
       "      <td>0.897539</td>\n",
       "      <td>1.357070</td>\n",
       "    </tr>\n",
       "    <tr>\n",
       "      <th>3996</th>\n",
       "      <td>4.0</td>\n",
       "      <td>997.0</td>\n",
       "      <td>3997.0</td>\n",
       "      <td>-893.070</td>\n",
       "      <td>0.961600</td>\n",
       "      <td>0.242629</td>\n",
       "      <td>1.0</td>\n",
       "      <td>3.0</td>\n",
       "      <td>0.0</td>\n",
       "      <td>894.692</td>\n",
       "      <td>0.027379</td>\n",
       "      <td>0.050865</td>\n",
       "      <td>2.08791</td>\n",
       "      <td>2.33041</td>\n",
       "      <td>2.33041</td>\n",
       "      <td>2.99292</td>\n",
       "      <td>-2.310350</td>\n",
       "      <td>-2.164740</td>\n",
       "    </tr>\n",
       "    <tr>\n",
       "      <th>3997</th>\n",
       "      <td>4.0</td>\n",
       "      <td>998.0</td>\n",
       "      <td>3998.0</td>\n",
       "      <td>-893.258</td>\n",
       "      <td>0.907663</td>\n",
       "      <td>0.242629</td>\n",
       "      <td>4.0</td>\n",
       "      <td>31.0</td>\n",
       "      <td>0.0</td>\n",
       "      <td>894.654</td>\n",
       "      <td>0.077118</td>\n",
       "      <td>0.098727</td>\n",
       "      <td>1.93114</td>\n",
       "      <td>2.14820</td>\n",
       "      <td>2.14820</td>\n",
       "      <td>2.78614</td>\n",
       "      <td>-1.233030</td>\n",
       "      <td>-1.184680</td>\n",
       "    </tr>\n",
       "    <tr>\n",
       "      <th>3998</th>\n",
       "      <td>4.0</td>\n",
       "      <td>999.0</td>\n",
       "      <td>3999.0</td>\n",
       "      <td>-893.156</td>\n",
       "      <td>0.814277</td>\n",
       "      <td>0.242629</td>\n",
       "      <td>3.0</td>\n",
       "      <td>11.0</td>\n",
       "      <td>0.0</td>\n",
       "      <td>895.195</td>\n",
       "      <td>0.075069</td>\n",
       "      <td>0.088373</td>\n",
       "      <td>1.98343</td>\n",
       "      <td>2.21824</td>\n",
       "      <td>2.21824</td>\n",
       "      <td>2.88401</td>\n",
       "      <td>-1.718150</td>\n",
       "      <td>-1.883420</td>\n",
       "    </tr>\n",
       "    <tr>\n",
       "      <th>3999</th>\n",
       "      <td>4.0</td>\n",
       "      <td>1000.0</td>\n",
       "      <td>4000.0</td>\n",
       "      <td>-893.605</td>\n",
       "      <td>0.962199</td>\n",
       "      <td>0.242629</td>\n",
       "      <td>4.0</td>\n",
       "      <td>15.0</td>\n",
       "      <td>0.0</td>\n",
       "      <td>894.098</td>\n",
       "      <td>0.052845</td>\n",
       "      <td>0.097074</td>\n",
       "      <td>1.92565</td>\n",
       "      <td>2.16541</td>\n",
       "      <td>2.16541</td>\n",
       "      <td>2.81630</td>\n",
       "      <td>1.916330</td>\n",
       "      <td>1.846960</td>\n",
       "    </tr>\n",
       "  </tbody>\n",
       "</table>\n",
       "<p>4000 rows × 18 columns</p>\n",
       "</div>"
      ],
      "text/plain": [
       "      chain__  iter__  draw__     lp__  accept_stat__  stepsize__  \\\n",
       "0         1.0     1.0     1.0 -894.748       0.808802    0.248425   \n",
       "1         1.0     2.0     2.0 -894.326       0.938312    0.248425   \n",
       "2         1.0     3.0     3.0 -894.764       0.972824    0.248425   \n",
       "3         1.0     4.0     4.0 -894.994       0.825819    0.248425   \n",
       "4         1.0     5.0     5.0 -893.347       0.991629    0.248425   \n",
       "...       ...     ...     ...      ...            ...         ...   \n",
       "3995      4.0   996.0  3996.0 -894.035       0.974834    0.242629   \n",
       "3996      4.0   997.0  3997.0 -893.070       0.961600    0.242629   \n",
       "3997      4.0   998.0  3998.0 -893.258       0.907663    0.242629   \n",
       "3998      4.0   999.0  3999.0 -893.156       0.814277    0.242629   \n",
       "3999      4.0  1000.0  4000.0 -893.605       0.962199    0.242629   \n",
       "\n",
       "      treedepth__  n_leapfrog__  divergent__  energy__     mu[1]     mu[2]  \\\n",
       "0             3.0           7.0          0.0   900.399  0.025692  0.012008   \n",
       "1             4.0          15.0          0.0   897.596  0.057412  0.084724   \n",
       "2             4.0          15.0          0.0   896.124  0.120412  0.149101   \n",
       "3             4.0          15.0          0.0   898.727 -0.030491  0.001403   \n",
       "4             4.0          15.0          0.0   896.643  0.039387  0.047146   \n",
       "...           ...           ...          ...       ...       ...       ...   \n",
       "3995          4.0          15.0          0.0   895.442  0.016435  0.064215   \n",
       "3996          1.0           3.0          0.0   894.692  0.027379  0.050865   \n",
       "3997          4.0          31.0          0.0   894.654  0.077118  0.098727   \n",
       "3998          3.0          11.0          0.0   895.195  0.075069  0.088373   \n",
       "3999          4.0          15.0          0.0   894.098  0.052845  0.097074   \n",
       "\n",
       "      Sigma[1,1]  Sigma[2,1]  Sigma[1,2]  Sigma[2,2]  y_tilde[1]  y_tilde[2]  \n",
       "0        2.07368     2.32978     2.32978     3.01595    0.917490    1.529210  \n",
       "1        2.17716     2.43351     2.43351     3.10038    0.438546    0.581381  \n",
       "2        2.12885     2.40475     2.40475     3.10088   -1.804400   -2.771410  \n",
       "3        2.09125     2.33870     2.33870     3.01320    0.925627    1.060810  \n",
       "4        2.04045     2.27960     2.27960     2.95372   -0.077980    0.650738  \n",
       "...          ...         ...         ...         ...         ...         ...  \n",
       "3995     2.06798     2.32896     2.32896     3.01449    0.897539    1.357070  \n",
       "3996     2.08791     2.33041     2.33041     2.99292   -2.310350   -2.164740  \n",
       "3997     1.93114     2.14820     2.14820     2.78614   -1.233030   -1.184680  \n",
       "3998     1.98343     2.21824     2.21824     2.88401   -1.718150   -1.883420  \n",
       "3999     1.92565     2.16541     2.16541     2.81630    1.916330    1.846960  \n",
       "\n",
       "[4000 rows x 18 columns]"
      ]
     },
     "execution_count": 18,
     "metadata": {},
     "output_type": "execute_result"
    }
   ],
   "source": [
    "fit5.draws_pd()"
   ]
  },
  {
   "cell_type": "code",
   "execution_count": 19,
   "id": "803a8e6d-9dea-4037-98c2-21c964a94abf",
   "metadata": {},
   "outputs": [
    {
     "data": {
      "text/plain": [
       "<matplotlib.collections.PathCollection at 0x7ff438241ad0>"
      ]
     },
     "execution_count": 19,
     "metadata": {},
     "output_type": "execute_result"
    },
    {
     "data": {
      "image/png": "[encoded data removed]",
      "text/plain": [
       "<Figure size 640x480 with 1 Axes>"
      ]
     },
     "metadata": {},
     "output_type": "display_data"
    }
   ],
   "source": [
    "plt.scatter(fit5.draws_pd()['y_tilde[1]'], fit5.draws_pd()['y_tilde[2]'])"
   ]
  },
  {
   "cell_type": "code",
   "execution_count": 17,
   "id": "4e5266bc-70de-4ba1-8ccd-213ccfffc990",
   "metadata": {},
   "outputs": [],
   "source": [
    "weights = np.array([-10.92431018,  11.92431018])\n",
    "futures = [fit5.draws_pd()['y_tilde[1]'], fit5.draws_pd()['y_tilde[2]']]"
   ]
  },
  {
   "cell_type": "code",
   "execution_count": 18,
   "id": "e2eb485b-0ff3-4dc4-9c72-e5e9594bc0a0",
   "metadata": {},
   "outputs": [
    {
     "data": {
      "text/plain": [
       "array([ -1.84059926,  -2.47410694,  -1.53812711, ...,  -3.63705517,\n",
       "         4.64105873, -11.75645205])"
      ]
     },
     "execution_count": 18,
     "metadata": {},
     "output_type": "execute_result"
    }
   ],
   "source": [
    "portfolio = np.dot(weights, futures)\n",
    "portfolio"
   ]
  },
  {
   "cell_type": "code",
   "execution_count": 19,
   "id": "b4a44619-62bb-4b08-b8ba-8d69f5d6f24f",
   "metadata": {},
   "outputs": [
    {
     "data": {
      "text/plain": [
       "(array([   5.,   42.,  215.,  581., 1000., 1050.,  755.,  288.,   55.,\n",
       "           9.]),\n",
       " array([-30.21731226, -24.27663414, -18.33595602, -12.39527789,\n",
       "         -6.45459977,  -0.51392165,   5.42675647,  11.36743459,\n",
       "         17.30811271,  23.24879083,  29.18946895]),\n",
       " <BarContainer object of 10 artists>)"
      ]
     },
     "execution_count": 19,
     "metadata": {},
     "output_type": "execute_result"
    },
    {
     "data": {
      "image/png": "[encoded data removed]",
      "text/plain": [
       "<Figure size 640x480 with 1 Axes>"
      ]
     },
     "metadata": {},
     "output_type": "display_data"
    }
   ],
   "source": [
    "plt.hist(portfolio)"
   ]
  },
  {
   "cell_type": "code",
   "execution_count": 20,
   "id": "e8f92ba8-c001-463f-b046-1b23eb22331a",
   "metadata": {},
   "outputs": [
    {
     "data": {
      "text/plain": [
       "0.27668146455781006"
      ]
     },
     "execution_count": 20,
     "metadata": {},
     "output_type": "execute_result"
    }
   ],
   "source": [
    "portfolio.mean()"
   ]
  },
  {
   "cell_type": "code",
   "execution_count": 21,
   "id": "64e0d2ab-2712-4855-9cc3-265b77b58cbb",
   "metadata": {},
   "outputs": [
    {
     "data": {
      "text/plain": [
       "<Axes: >"
      ]
     },
     "execution_count": 21,
     "metadata": {},
     "output_type": "execute_result"
    },
    {
     "data": {
      "image/png": "[encoded data removed]",
      "text/plain": [
       "<Figure size 640x480 with 1 Axes>"
      ]
     },
     "metadata": {},
     "output_type": "display_data"
    }
   ],
   "source": [
    "port = pd.DataFrame(portfolio)\n",
    "port.plot()"
   ]
  },
  {
   "cell_type": "markdown",
   "id": "f5d879b2-4294-4f56-84fd-c2ac5e6d35b1",
   "metadata": {},
   "source": [
    "5.\n",
    "\n",
    "Simulate parameters from the posterior after making adjustments to your prior. Do not feel obligated to re-do all of the same work you did in the previous problem. Instead, discuss (qualitatively) how sensitive your posterior appears to be to the choices you made on your prior. "
   ]
  },
  {
   "cell_type": "markdown",
   "id": "e2bebccd-2268-4ad9-8c93-0104896c47aa",
   "metadata": {},
   "source": [
    "It's fairly sensitive I guess. I messed around with different weights generated by different gammas from homework 4. The mean of the portfolio scales up slow at first but then quickly the more risky you. This lends itself to my conclusion from homework 4 that if you can wait out this highs and lows the risky strategy works in the long run (as long as you sell on top). My weights look like they actually decrease the overall return?"
   ]
  },
  {
   "cell_type": "markdown",
   "id": "e2869532-fcfa-424f-81e4-994532b331d3",
   "metadata": {},
   "source": [
    "6.\n",
    "\n",
    "Now choose any prior you want for the unknown mean and covariance matrix parameters. You can do anything you want as long as you\n",
    "\n",
    " - produce `stan` code that runs without error, and\n",
    " - use the LKJ distribution for the correlation matrix. \n",
    "\n",
    "Be sure to complete all the above steps:\n",
    "\n",
    " - simulate from the prior predictive distribution as a check on the prior;\n",
    " - simulate parameters from the posterior (check diagnostics, visualize and report); and\n",
    " - simulate from the posterior predictive distribution in the same way you did earlier."
   ]
  },
  {
   "cell_type": "code",
   "execution_count": 22,
   "id": "e6406949-f63d-4a59-a90b-9787b118eb96",
   "metadata": {},
   "outputs": [],
   "source": [
    "model_code61 = stan_file = os.path.join('.', 'hw661t2.stan')\n",
    "model61 = CmdStanModel(stan_file=model_code61)"
   ]
  },
  {
   "cell_type": "code",
   "execution_count": 24,
   "id": "b494f8dc-0f35-4a19-b988-01973e15bbcd",
   "metadata": {},
   "outputs": [
    {
     "name": "stderr",
     "output_type": "stream",
     "text": [
      "01:33:42 - cmdstanpy - INFO - CmdStan start processing\n"
     ]
    },
    {
     "data": {
      "application/vnd.jupyter.widget-view+json": {
       "model_id": "639dc2cd5b4940389397601fa7e7b49a",
       "version_major": 2,
       "version_minor": 0
      },
      "text/plain": [
       "chain 1 |          | 00:00 Status"
      ]
     },
     "metadata": {},
     "output_type": "display_data"
    },
    {
     "data": {
      "application/vnd.jupyter.widget-view+json": {
       "model_id": "f38bb780a2b64cca8749f19857005e53",
       "version_major": 2,
       "version_minor": 0
      },
      "text/plain": [
       "chain 2 |          | 00:00 Status"
      ]
     },
     "metadata": {},
     "output_type": "display_data"
    },
    {
     "data": {
      "application/vnd.jupyter.widget-view+json": {
       "model_id": "2b9a0c4e88604ec6905a0360fb233f30",
       "version_major": 2,
       "version_minor": 0
      },
      "text/plain": [
       "chain 3 |          | 00:00 Status"
      ]
     },
     "metadata": {},
     "output_type": "display_data"
    },
    {
     "data": {
      "application/vnd.jupyter.widget-view+json": {
       "model_id": "9ba3979311dc493fae522083f4c4909a",
       "version_major": 2,
       "version_minor": 0
      },
      "text/plain": [
       "chain 4 |          | 00:00 Status"
      ]
     },
     "metadata": {},
     "output_type": "display_data"
    },
    {
     "name": "stdout",
     "output_type": "stream",
     "text": [
      "                                                                                                                                                                                                                                                                                                                                "
     ]
    },
    {
     "name": "stderr",
     "output_type": "stream",
     "text": [
      "01:33:42 - cmdstanpy - INFO - CmdStan done processing.\n"
     ]
    },
    {
     "name": "stdout",
     "output_type": "stream",
     "text": [
      "\n"
     ]
    }
   ],
   "source": [
    "returns_data61 = {'N' : rets.shape[0], \n",
    "                'K' : rets.shape[1],\n",
    "                'eta': 1}\n",
    "fit61 = model61.sample(returns_data61, fixed_param = True)"
   ]
  },
  {
   "cell_type": "code",
   "execution_count": 25,
   "id": "19422b55-a62e-4048-b32d-d7625bf7e6b5",
   "metadata": {},
   "outputs": [
    {
     "data": {
      "text/plain": [
       "mu[1]            2.526718e+14\n",
       "mu[2]            3.262734e+14\n",
       "L_std[1]         7.888851e+13\n",
       "L_std[2]         9.732550e+13\n",
       "L_Omega[1,1]              NaN\n",
       "                     ...     \n",
       "y_sim[2,1001]    3.335140e+00\n",
       "y_sim[2,1002]    3.294500e+00\n",
       "y_sim[2,1003]    3.321730e+00\n",
       "y_sim[2,1004]    3.274940e+00\n",
       "y_sim[2,1005]    3.269410e+00\n",
       "Name: R_hat, Length: 2022, dtype: float64"
      ]
     },
     "execution_count": 25,
     "metadata": {},
     "output_type": "execute_result"
    }
   ],
   "source": [
    "fit61.summary()['R_hat']"
   ]
  },
  {
   "cell_type": "code",
   "execution_count": 26,
   "id": "da4114d9-5e38-412a-a563-3ec72b2f8125",
   "metadata": {},
   "outputs": [
    {
     "data": {
      "text/html": [
       "<div>\n",
       "<style scoped>\n",
       "    .dataframe tbody tr th:only-of-type {\n",
       "        vertical-align: middle;\n",
       "    }\n",
       "\n",
       "    .dataframe tbody tr th {\n",
       "        vertical-align: top;\n",
       "    }\n",
       "\n",
       "    .dataframe thead th {\n",
       "        text-align: right;\n",
       "    }\n",
       "</style>\n",
       "<table border=\"1\" class=\"dataframe\">\n",
       "  <thead>\n",
       "    <tr style=\"text-align: right;\">\n",
       "      <th></th>\n",
       "      <th>chain__</th>\n",
       "      <th>iter__</th>\n",
       "      <th>draw__</th>\n",
       "      <th>lp__</th>\n",
       "      <th>accept_stat__</th>\n",
       "      <th>mu[1]</th>\n",
       "      <th>mu[2]</th>\n",
       "      <th>L_std[1]</th>\n",
       "      <th>L_std[2]</th>\n",
       "      <th>L_Omega[1,1]</th>\n",
       "      <th>...</th>\n",
       "      <th>y_sim[1,1001]</th>\n",
       "      <th>y_sim[2,1001]</th>\n",
       "      <th>y_sim[1,1002]</th>\n",
       "      <th>y_sim[2,1002]</th>\n",
       "      <th>y_sim[1,1003]</th>\n",
       "      <th>y_sim[2,1003]</th>\n",
       "      <th>y_sim[1,1004]</th>\n",
       "      <th>y_sim[2,1004]</th>\n",
       "      <th>y_sim[1,1005]</th>\n",
       "      <th>y_sim[2,1005]</th>\n",
       "    </tr>\n",
       "  </thead>\n",
       "  <tbody>\n",
       "    <tr>\n",
       "      <th>0</th>\n",
       "      <td>1.0</td>\n",
       "      <td>1.0</td>\n",
       "      <td>1.0</td>\n",
       "      <td>0.0</td>\n",
       "      <td>0.0</td>\n",
       "      <td>1.454440</td>\n",
       "      <td>0.574536</td>\n",
       "      <td>6.08857</td>\n",
       "      <td>0.565636</td>\n",
       "      <td>1.0</td>\n",
       "      <td>...</td>\n",
       "      <td>6.726090</td>\n",
       "      <td>0.962890</td>\n",
       "      <td>-2.892150</td>\n",
       "      <td>-0.002229</td>\n",
       "      <td>2.50179</td>\n",
       "      <td>0.987014</td>\n",
       "      <td>19.448600</td>\n",
       "      <td>1.771950</td>\n",
       "      <td>4.33129</td>\n",
       "      <td>0.774155</td>\n",
       "    </tr>\n",
       "    <tr>\n",
       "      <th>1</th>\n",
       "      <td>1.0</td>\n",
       "      <td>2.0</td>\n",
       "      <td>2.0</td>\n",
       "      <td>0.0</td>\n",
       "      <td>0.0</td>\n",
       "      <td>1.454440</td>\n",
       "      <td>0.574536</td>\n",
       "      <td>6.08857</td>\n",
       "      <td>0.565636</td>\n",
       "      <td>1.0</td>\n",
       "      <td>...</td>\n",
       "      <td>-5.309010</td>\n",
       "      <td>-0.165095</td>\n",
       "      <td>-5.353110</td>\n",
       "      <td>0.376954</td>\n",
       "      <td>-1.66945</td>\n",
       "      <td>0.520031</td>\n",
       "      <td>8.459780</td>\n",
       "      <td>0.905414</td>\n",
       "      <td>6.64450</td>\n",
       "      <td>1.183780</td>\n",
       "    </tr>\n",
       "    <tr>\n",
       "      <th>2</th>\n",
       "      <td>1.0</td>\n",
       "      <td>3.0</td>\n",
       "      <td>3.0</td>\n",
       "      <td>0.0</td>\n",
       "      <td>0.0</td>\n",
       "      <td>1.454440</td>\n",
       "      <td>0.574536</td>\n",
       "      <td>6.08857</td>\n",
       "      <td>0.565636</td>\n",
       "      <td>1.0</td>\n",
       "      <td>...</td>\n",
       "      <td>13.305600</td>\n",
       "      <td>1.409220</td>\n",
       "      <td>-6.240120</td>\n",
       "      <td>-0.560067</td>\n",
       "      <td>-2.69114</td>\n",
       "      <td>0.462508</td>\n",
       "      <td>-7.067710</td>\n",
       "      <td>-0.619673</td>\n",
       "      <td>2.88614</td>\n",
       "      <td>0.626498</td>\n",
       "    </tr>\n",
       "    <tr>\n",
       "      <th>3</th>\n",
       "      <td>1.0</td>\n",
       "      <td>4.0</td>\n",
       "      <td>4.0</td>\n",
       "      <td>0.0</td>\n",
       "      <td>0.0</td>\n",
       "      <td>1.454440</td>\n",
       "      <td>0.574536</td>\n",
       "      <td>6.08857</td>\n",
       "      <td>0.565636</td>\n",
       "      <td>1.0</td>\n",
       "      <td>...</td>\n",
       "      <td>2.833700</td>\n",
       "      <td>0.870769</td>\n",
       "      <td>5.316560</td>\n",
       "      <td>1.020770</td>\n",
       "      <td>9.51698</td>\n",
       "      <td>1.102790</td>\n",
       "      <td>-5.741920</td>\n",
       "      <td>-0.034419</td>\n",
       "      <td>-7.20247</td>\n",
       "      <td>-0.274211</td>\n",
       "    </tr>\n",
       "    <tr>\n",
       "      <th>4</th>\n",
       "      <td>1.0</td>\n",
       "      <td>5.0</td>\n",
       "      <td>5.0</td>\n",
       "      <td>0.0</td>\n",
       "      <td>0.0</td>\n",
       "      <td>1.454440</td>\n",
       "      <td>0.574536</td>\n",
       "      <td>6.08857</td>\n",
       "      <td>0.565636</td>\n",
       "      <td>1.0</td>\n",
       "      <td>...</td>\n",
       "      <td>11.249900</td>\n",
       "      <td>1.451230</td>\n",
       "      <td>9.056660</td>\n",
       "      <td>0.916689</td>\n",
       "      <td>9.33305</td>\n",
       "      <td>1.124130</td>\n",
       "      <td>8.408960</td>\n",
       "      <td>0.855866</td>\n",
       "      <td>-2.35771</td>\n",
       "      <td>0.241004</td>\n",
       "    </tr>\n",
       "    <tr>\n",
       "      <th>...</th>\n",
       "      <td>...</td>\n",
       "      <td>...</td>\n",
       "      <td>...</td>\n",
       "      <td>...</td>\n",
       "      <td>...</td>\n",
       "      <td>...</td>\n",
       "      <td>...</td>\n",
       "      <td>...</td>\n",
       "      <td>...</td>\n",
       "      <td>...</td>\n",
       "      <td>...</td>\n",
       "      <td>...</td>\n",
       "      <td>...</td>\n",
       "      <td>...</td>\n",
       "      <td>...</td>\n",
       "      <td>...</td>\n",
       "      <td>...</td>\n",
       "      <td>...</td>\n",
       "      <td>...</td>\n",
       "      <td>...</td>\n",
       "      <td>...</td>\n",
       "    </tr>\n",
       "    <tr>\n",
       "      <th>3995</th>\n",
       "      <td>4.0</td>\n",
       "      <td>996.0</td>\n",
       "      <td>3996.0</td>\n",
       "      <td>0.0</td>\n",
       "      <td>0.0</td>\n",
       "      <td>0.987953</td>\n",
       "      <td>1.727740</td>\n",
       "      <td>2.00658</td>\n",
       "      <td>0.230647</td>\n",
       "      <td>1.0</td>\n",
       "      <td>...</td>\n",
       "      <td>3.620830</td>\n",
       "      <td>1.739710</td>\n",
       "      <td>4.786200</td>\n",
       "      <td>1.735520</td>\n",
       "      <td>1.59356</td>\n",
       "      <td>2.092550</td>\n",
       "      <td>3.888810</td>\n",
       "      <td>1.531430</td>\n",
       "      <td>3.83727</td>\n",
       "      <td>1.682560</td>\n",
       "    </tr>\n",
       "    <tr>\n",
       "      <th>3996</th>\n",
       "      <td>4.0</td>\n",
       "      <td>997.0</td>\n",
       "      <td>3997.0</td>\n",
       "      <td>0.0</td>\n",
       "      <td>0.0</td>\n",
       "      <td>0.987953</td>\n",
       "      <td>1.727740</td>\n",
       "      <td>2.00658</td>\n",
       "      <td>0.230647</td>\n",
       "      <td>1.0</td>\n",
       "      <td>...</td>\n",
       "      <td>0.576142</td>\n",
       "      <td>1.768590</td>\n",
       "      <td>6.471840</td>\n",
       "      <td>1.496310</td>\n",
       "      <td>2.54589</td>\n",
       "      <td>1.813080</td>\n",
       "      <td>1.193990</td>\n",
       "      <td>1.819040</td>\n",
       "      <td>-2.72947</td>\n",
       "      <td>1.796460</td>\n",
       "    </tr>\n",
       "    <tr>\n",
       "      <th>3997</th>\n",
       "      <td>4.0</td>\n",
       "      <td>998.0</td>\n",
       "      <td>3998.0</td>\n",
       "      <td>0.0</td>\n",
       "      <td>0.0</td>\n",
       "      <td>0.987953</td>\n",
       "      <td>1.727740</td>\n",
       "      <td>2.00658</td>\n",
       "      <td>0.230647</td>\n",
       "      <td>1.0</td>\n",
       "      <td>...</td>\n",
       "      <td>2.145370</td>\n",
       "      <td>1.771140</td>\n",
       "      <td>0.206175</td>\n",
       "      <td>1.670420</td>\n",
       "      <td>1.05189</td>\n",
       "      <td>1.703770</td>\n",
       "      <td>1.998990</td>\n",
       "      <td>1.515050</td>\n",
       "      <td>4.65216</td>\n",
       "      <td>1.303390</td>\n",
       "    </tr>\n",
       "    <tr>\n",
       "      <th>3998</th>\n",
       "      <td>4.0</td>\n",
       "      <td>999.0</td>\n",
       "      <td>3999.0</td>\n",
       "      <td>0.0</td>\n",
       "      <td>0.0</td>\n",
       "      <td>0.987953</td>\n",
       "      <td>1.727740</td>\n",
       "      <td>2.00658</td>\n",
       "      <td>0.230647</td>\n",
       "      <td>1.0</td>\n",
       "      <td>...</td>\n",
       "      <td>-0.269380</td>\n",
       "      <td>1.668800</td>\n",
       "      <td>4.222090</td>\n",
       "      <td>1.596070</td>\n",
       "      <td>-1.78364</td>\n",
       "      <td>1.851880</td>\n",
       "      <td>-0.407646</td>\n",
       "      <td>1.699070</td>\n",
       "      <td>1.52551</td>\n",
       "      <td>1.510070</td>\n",
       "    </tr>\n",
       "    <tr>\n",
       "      <th>3999</th>\n",
       "      <td>4.0</td>\n",
       "      <td>1000.0</td>\n",
       "      <td>4000.0</td>\n",
       "      <td>0.0</td>\n",
       "      <td>0.0</td>\n",
       "      <td>0.987953</td>\n",
       "      <td>1.727740</td>\n",
       "      <td>2.00658</td>\n",
       "      <td>0.230647</td>\n",
       "      <td>1.0</td>\n",
       "      <td>...</td>\n",
       "      <td>-1.697680</td>\n",
       "      <td>1.919790</td>\n",
       "      <td>0.296206</td>\n",
       "      <td>1.926390</td>\n",
       "      <td>3.46365</td>\n",
       "      <td>1.638380</td>\n",
       "      <td>0.531388</td>\n",
       "      <td>1.949920</td>\n",
       "      <td>-3.07374</td>\n",
       "      <td>1.929590</td>\n",
       "    </tr>\n",
       "  </tbody>\n",
       "</table>\n",
       "<p>4000 rows × 2027 columns</p>\n",
       "</div>"
      ],
      "text/plain": [
       "      chain__  iter__  draw__  lp__  accept_stat__     mu[1]     mu[2]  \\\n",
       "0         1.0     1.0     1.0   0.0            0.0  1.454440  0.574536   \n",
       "1         1.0     2.0     2.0   0.0            0.0  1.454440  0.574536   \n",
       "2         1.0     3.0     3.0   0.0            0.0  1.454440  0.574536   \n",
       "3         1.0     4.0     4.0   0.0            0.0  1.454440  0.574536   \n",
       "4         1.0     5.0     5.0   0.0            0.0  1.454440  0.574536   \n",
       "...       ...     ...     ...   ...            ...       ...       ...   \n",
       "3995      4.0   996.0  3996.0   0.0            0.0  0.987953  1.727740   \n",
       "3996      4.0   997.0  3997.0   0.0            0.0  0.987953  1.727740   \n",
       "3997      4.0   998.0  3998.0   0.0            0.0  0.987953  1.727740   \n",
       "3998      4.0   999.0  3999.0   0.0            0.0  0.987953  1.727740   \n",
       "3999      4.0  1000.0  4000.0   0.0            0.0  0.987953  1.727740   \n",
       "\n",
       "      L_std[1]  L_std[2]  L_Omega[1,1]  ...  y_sim[1,1001]  y_sim[2,1001]  \\\n",
       "0      6.08857  0.565636           1.0  ...       6.726090       0.962890   \n",
       "1      6.08857  0.565636           1.0  ...      -5.309010      -0.165095   \n",
       "2      6.08857  0.565636           1.0  ...      13.305600       1.409220   \n",
       "3      6.08857  0.565636           1.0  ...       2.833700       0.870769   \n",
       "4      6.08857  0.565636           1.0  ...      11.249900       1.451230   \n",
       "...        ...       ...           ...  ...            ...            ...   \n",
       "3995   2.00658  0.230647           1.0  ...       3.620830       1.739710   \n",
       "3996   2.00658  0.230647           1.0  ...       0.576142       1.768590   \n",
       "3997   2.00658  0.230647           1.0  ...       2.145370       1.771140   \n",
       "3998   2.00658  0.230647           1.0  ...      -0.269380       1.668800   \n",
       "3999   2.00658  0.230647           1.0  ...      -1.697680       1.919790   \n",
       "\n",
       "      y_sim[1,1002]  y_sim[2,1002]  y_sim[1,1003]  y_sim[2,1003]  \\\n",
       "0         -2.892150      -0.002229        2.50179       0.987014   \n",
       "1         -5.353110       0.376954       -1.66945       0.520031   \n",
       "2         -6.240120      -0.560067       -2.69114       0.462508   \n",
       "3          5.316560       1.020770        9.51698       1.102790   \n",
       "4          9.056660       0.916689        9.33305       1.124130   \n",
       "...             ...            ...            ...            ...   \n",
       "3995       4.786200       1.735520        1.59356       2.092550   \n",
       "3996       6.471840       1.496310        2.54589       1.813080   \n",
       "3997       0.206175       1.670420        1.05189       1.703770   \n",
       "3998       4.222090       1.596070       -1.78364       1.851880   \n",
       "3999       0.296206       1.926390        3.46365       1.638380   \n",
       "\n",
       "      y_sim[1,1004]  y_sim[2,1004]  y_sim[1,1005]  y_sim[2,1005]  \n",
       "0         19.448600       1.771950        4.33129       0.774155  \n",
       "1          8.459780       0.905414        6.64450       1.183780  \n",
       "2         -7.067710      -0.619673        2.88614       0.626498  \n",
       "3         -5.741920      -0.034419       -7.20247      -0.274211  \n",
       "4          8.408960       0.855866       -2.35771       0.241004  \n",
       "...             ...            ...            ...            ...  \n",
       "3995       3.888810       1.531430        3.83727       1.682560  \n",
       "3996       1.193990       1.819040       -2.72947       1.796460  \n",
       "3997       1.998990       1.515050        4.65216       1.303390  \n",
       "3998      -0.407646       1.699070        1.52551       1.510070  \n",
       "3999       0.531388       1.949920       -3.07374       1.929590  \n",
       "\n",
       "[4000 rows x 2027 columns]"
      ]
     },
     "execution_count": 26,
     "metadata": {},
     "output_type": "execute_result"
    }
   ],
   "source": [
    "fit61.draws_pd()"
   ]
  },
  {
   "cell_type": "code",
   "execution_count": 27,
   "id": "66d43a62-4925-4428-899b-30fae82668d9",
   "metadata": {},
   "outputs": [
    {
     "data": {
      "text/plain": [
       "<matplotlib.collections.PathCollection at 0x7f639050ba50>"
      ]
     },
     "execution_count": 27,
     "metadata": {},
     "output_type": "execute_result"
    },
    {
     "data": {
      "image/png": "[encoded data removed]",
      "text/plain": [
       "<Figure size 640x480 with 1 Axes>"
      ]
     },
     "metadata": {},
     "output_type": "display_data"
    }
   ],
   "source": [
    "plt.scatter(fit61.y_sim[:, 0], fit61.y_sim[:, 1])"
   ]
  },
  {
   "cell_type": "code",
   "execution_count": 28,
   "id": "98d6da6e-49fd-480a-b347-46f457b4a46d",
   "metadata": {},
   "outputs": [],
   "source": [
    "model_code62 = stan_file = os.path.join('.', 'hw662.stan')\n",
    "model62 = CmdStanModel(stan_file=model_code62)"
   ]
  },
  {
   "cell_type": "code",
   "execution_count": 29,
   "id": "1de9baef-86fd-4da8-aff5-47fd885db940",
   "metadata": {},
   "outputs": [
    {
     "name": "stderr",
     "output_type": "stream",
     "text": [
      "01:34:38 - cmdstanpy - INFO - CmdStan start processing\n"
     ]
    },
    {
     "data": {
      "application/vnd.jupyter.widget-view+json": {
       "model_id": "46479f6456e3475ab74e235cfb289fed",
       "version_major": 2,
       "version_minor": 0
      },
      "text/plain": [
       "chain 1 |          | 00:00 Status"
      ]
     },
     "metadata": {},
     "output_type": "display_data"
    },
    {
     "data": {
      "application/vnd.jupyter.widget-view+json": {
       "model_id": "0d201cb016cb4b11b4e278253219fecc",
       "version_major": 2,
       "version_minor": 0
      },
      "text/plain": [
       "chain 2 |          | 00:00 Status"
      ]
     },
     "metadata": {},
     "output_type": "display_data"
    },
    {
     "data": {
      "application/vnd.jupyter.widget-view+json": {
       "model_id": "8b1af8b9799e4dc081d3ef0c16a7f19d",
       "version_major": 2,
       "version_minor": 0
      },
      "text/plain": [
       "chain 3 |          | 00:00 Status"
      ]
     },
     "metadata": {},
     "output_type": "display_data"
    },
    {
     "data": {
      "application/vnd.jupyter.widget-view+json": {
       "model_id": "d0f70920e6f441349abedf54c8a005af",
       "version_major": 2,
       "version_minor": 0
      },
      "text/plain": [
       "chain 4 |          | 00:00 Status"
      ]
     },
     "metadata": {},
     "output_type": "display_data"
    },
    {
     "name": "stdout",
     "output_type": "stream",
     "text": [
      "                                                                                                                                                                                                                                                                                                                                "
     ]
    },
    {
     "name": "stderr",
     "output_type": "stream",
     "text": [
      "01:34:51 - cmdstanpy - INFO - CmdStan done processing.\n",
      "01:34:51 - cmdstanpy - WARNING - Non-fatal error during sampling:\n",
      "Exception: lkj_corr_cholesky_lpdf: Random variable[2] is 0, but must be positive! (in 'hw662.stan', line 26, column 2 to column 35)\n",
      "\tException: lkj_corr_cholesky_lpdf: Random variable[2] is 0, but must be positive! (in 'hw662.stan', line 26, column 2 to column 35)\n",
      "\tException: lkj_corr_cholesky_lpdf: Random variable[2] is 0, but must be positive! (in 'hw662.stan', line 26, column 2 to column 35)\n",
      "\tException: lkj_corr_cholesky_lpdf: Random variable[2] is 0, but must be positive! (in 'hw662.stan', line 26, column 2 to column 35)\n",
      "\tException: lkj_corr_cholesky_lpdf: Random variable[2] is 0, but must be positive! (in 'hw662.stan', line 26, column 2 to column 35)\n",
      "\tException: lkj_corr_cholesky_lpdf: Random variable[2] is 0, but must be positive! (in 'hw662.stan', line 26, column 2 to column 35)\n",
      "\tException: lkj_corr_cholesky_lpdf: Random variable[2] is 0, but must be positive! (in 'hw662.stan', line 26, column 2 to column 35)\n",
      "\tException: lkj_corr_cholesky_lpdf: Random variable[2] is 0, but must be positive! (in 'hw662.stan', line 26, column 2 to column 35)\n",
      "\tException: lkj_corr_cholesky_lpdf: Random variable[2] is 0, but must be positive! (in 'hw662.stan', line 26, column 2 to column 35)\n",
      "\tException: lkj_corr_cholesky_lpdf: Random variable[2] is 0, but must be positive! (in 'hw662.stan', line 26, column 2 to column 35)\n",
      "Exception: lkj_corr_cholesky_lpdf: Random variable[2] is 0, but must be positive! (in 'hw662.stan', line 26, column 2 to column 35)\n",
      "\tException: lkj_corr_cholesky_lpdf: Random variable[2] is 0, but must be positive! (in 'hw662.stan', line 26, column 2 to column 35)\n",
      "\tException: lkj_corr_cholesky_lpdf: Random variable[2] is 0, but must be positive! (in 'hw662.stan', line 26, column 2 to column 35)\n",
      "\tException: lkj_corr_cholesky_lpdf: Random variable[2] is 0, but must be positive! (in 'hw662.stan', line 26, column 2 to column 35)\n",
      "\tException: lkj_corr_cholesky_lpdf: Random variable[2] is 0, but must be positive! (in 'hw662.stan', line 26, column 2 to column 35)\n",
      "\tException: lkj_corr_cholesky_lpdf: Random variable[2] is 0, but must be positive! (in 'hw662.stan', line 26, column 2 to column 35)\n",
      "Exception: lkj_corr_cholesky_lpdf: Random variable[2] is 0, but must be positive! (in 'hw662.stan', line 26, column 2 to column 35)\n",
      "\tException: lkj_corr_cholesky_lpdf: Random variable[2] is 0, but must be positive! (in 'hw662.stan', line 26, column 2 to column 35)\n",
      "\tException: lkj_corr_cholesky_lpdf: Random variable[2] is 0, but must be positive! (in 'hw662.stan', line 26, column 2 to column 35)\n",
      "\tException: lkj_corr_cholesky_lpdf: Random variable[2] is 0, but must be positive! (in 'hw662.stan', line 26, column 2 to column 35)\n",
      "\tException: lkj_corr_cholesky_lpdf: Random variable[2] is 0, but must be positive! (in 'hw662.stan', line 26, column 2 to column 35)\n",
      "\tException: lkj_corr_cholesky_lpdf: Random variable[2] is 0, but must be positive! (in 'hw662.stan', line 26, column 2 to column 35)\n",
      "\tException: lkj_corr_cholesky_lpdf: Random variable[2] is 0, but must be positive! (in 'hw662.stan', line 26, column 2 to column 35)\n",
      "\tException: lkj_corr_cholesky_lpdf: Random variable[2] is 0, but must be positive! (in 'hw662.stan', line 26, column 2 to column 35)\n",
      "\tException: lkj_corr_cholesky_lpdf: Random variable[2] is 0, but must be positive! (in 'hw662.stan', line 26, column 2 to column 35)\n",
      "\tException: lkj_corr_cholesky_lpdf: Random variable[2] is 0, but must be positive! (in 'hw662.stan', line 26, column 2 to column 35)\n",
      "Exception: lkj_corr_cholesky_lpdf: Random variable[2] is 0, but must be positive! (in 'hw662.stan', line 26, column 2 to column 35)\n",
      "\tException: lkj_corr_cholesky_lpdf: Random variable[2] is 0, but must be positive! (in 'hw662.stan', line 26, column 2 to column 35)\n",
      "\tException: lkj_corr_cholesky_lpdf: Random variable[2] is 0, but must be positive! (in 'hw662.stan', line 26, column 2 to column 35)\n",
      "\tException: lkj_corr_cholesky_lpdf: Random variable[2] is 0, but must be positive! (in 'hw662.stan', line 26, column 2 to column 35)\n",
      "\tException: lkj_corr_cholesky_lpdf: Random variable[2] is 0, but must be positive! (in 'hw662.stan', line 26, column 2 to column 35)\n",
      "\tException: lkj_corr_cholesky_lpdf: Random variable[2] is 0, but must be positive! (in 'hw662.stan', line 26, column 2 to column 35)\n",
      "\tException: lkj_corr_cholesky_lpdf: Random variable[2] is 0, but must be positive! (in 'hw662.stan', line 26, column 2 to column 35)\n",
      "\tException: lkj_corr_cholesky_lpdf: Random variable[2] is 0, but must be positive! (in 'hw662.stan', line 26, column 2 to column 35)\n",
      "\tException: lkj_corr_cholesky_lpdf: Random variable[2] is 0, but must be positive! (in 'hw662.stan', line 26, column 2 to column 35)\n",
      "\tException: lkj_corr_cholesky_lpdf: Random variable[2] is 0, but must be positive! (in 'hw662.stan', line 26, column 2 to column 35)\n",
      "Consider re-running with show_console=True if the above output is unclear!\n"
     ]
    },
    {
     "name": "stdout",
     "output_type": "stream",
     "text": [
      "\n"
     ]
    }
   ],
   "source": [
    "returns_data62 = {'N' : rets.shape[0], \n",
    "                'K' : rets.shape[1],\n",
    "                'y': rets.values.transpose(),\n",
    "                'eta': 1}\n",
    "fit62 = model62.sample(returns_data62)"
   ]
  },
  {
   "cell_type": "code",
   "execution_count": 30,
   "id": "a8d3c11b-6566-4197-8448-dcfefa69099a",
   "metadata": {},
   "outputs": [
    {
     "data": {
      "text/plain": [
       "lp__            0.999712\n",
       "mu[1]           0.999501\n",
       "mu[2]           0.999584\n",
       "L_std[1]        0.999888\n",
       "L_std[2]        1.000130\n",
       "L_Omega[1,1]         NaN\n",
       "L_Omega[1,2]         NaN\n",
       "L_Omega[2,1]    0.999963\n",
       "L_Omega[2,2]    0.999995\n",
       "L_Sigma[1,1]    0.999888\n",
       "L_Sigma[1,2]         NaN\n",
       "L_Sigma[2,1]    1.000150\n",
       "L_Sigma[2,2]    0.999806\n",
       "Name: R_hat, dtype: float64"
      ]
     },
     "execution_count": 30,
     "metadata": {},
     "output_type": "execute_result"
    }
   ],
   "source": [
    "fit62.summary()['R_hat']"
   ]
  },
  {
   "cell_type": "code",
   "execution_count": 31,
   "id": "419303b2-b094-4185-bc44-7e9f37c877e6",
   "metadata": {},
   "outputs": [
    {
     "data": {
      "text/plain": [
       "<Axes: >"
      ]
     },
     "execution_count": 31,
     "metadata": {},
     "output_type": "execute_result"
    },
    {
     "data": {
      "image/png": "[encoded data removed]",
      "text/plain": [
       "<Figure size 640x480 with 1 Axes>"
      ]
     },
     "metadata": {},
     "output_type": "display_data"
    }
   ],
   "source": [
    "fit62.draws_pd()[['mu[1]','mu[2]']].plot()"
   ]
  },
  {
   "cell_type": "code",
   "execution_count": 32,
   "id": "2a5aef6a-3695-493c-b226-35df9f7173d0",
   "metadata": {},
   "outputs": [
    {
     "data": {
      "text/plain": [
       "<Axes: >"
      ]
     },
     "execution_count": 32,
     "metadata": {},
     "output_type": "execute_result"
    },
    {
     "data": {
      "image/png": "[encoded data removed]",
      "text/plain": [
       "<Figure size 640x480 with 1 Axes>"
      ]
     },
     "metadata": {},
     "output_type": "display_data"
    }
   ],
   "source": [
    "fit62.draws_pd()[['L_Sigma[1,1]', 'L_Sigma[1,2]', 'L_Sigma[2,2]']].plot()"
   ]
  },
  {
   "cell_type": "code",
   "execution_count": 33,
   "id": "308f5f7b-89ca-440f-a835-6ec9a4b47a91",
   "metadata": {},
   "outputs": [
    {
     "data": {
      "text/plain": [
       "<Axes: >"
      ]
     },
     "execution_count": 33,
     "metadata": {},
     "output_type": "execute_result"
    },
    {
     "data": {
      "image/png": "[encoded data removed]",
      "text/plain": [
       "<Figure size 640x480 with 1 Axes>"
      ]
     },
     "metadata": {},
     "output_type": "display_data"
    }
   ],
   "source": [
    "fit62.draws_pd()[['L_Omega[2,1]', 'L_Omega[2,2]']].plot()"
   ]
  },
  {
   "cell_type": "code",
   "execution_count": 36,
   "id": "6d0d7bb5-bc82-41bd-8189-1a43ca4e7fda",
   "metadata": {},
   "outputs": [
    {
     "name": "stderr",
     "output_type": "stream",
     "text": [
      "23:55:23 - cmdstanpy - INFO - compiling stan file /bml24/hw663.stan to exe file /bml24/hw663\n",
      "23:55:48 - cmdstanpy - INFO - compiled model executable: /bml24/hw663\n"
     ]
    }
   ],
   "source": [
    "model_code63 = stan_file = os.path.join('.', 'hw663.stan')\n",
    "model63 = CmdStanModel(stan_file=model_code63)"
   ]
  },
  {
   "cell_type": "code",
   "execution_count": 37,
   "id": "2aa51409-00f1-4e49-8713-7221dba024d1",
   "metadata": {},
   "outputs": [
    {
     "name": "stderr",
     "output_type": "stream",
     "text": [
      "23:55:48 - cmdstanpy - INFO - CmdStan start processing\n"
     ]
    },
    {
     "data": {
      "application/vnd.jupyter.widget-view+json": {
       "model_id": "61a881c0efad4fca9640731f15345c01",
       "version_major": 2,
       "version_minor": 0
      },
      "text/plain": [
       "chain 1 |          | 00:00 Status"
      ]
     },
     "metadata": {},
     "output_type": "display_data"
    },
    {
     "data": {
      "application/vnd.jupyter.widget-view+json": {
       "model_id": "f8a6ec286113445faeb9ad3e1c8b5456",
       "version_major": 2,
       "version_minor": 0
      },
      "text/plain": [
       "chain 2 |          | 00:00 Status"
      ]
     },
     "metadata": {},
     "output_type": "display_data"
    },
    {
     "data": {
      "application/vnd.jupyter.widget-view+json": {
       "model_id": "43eed8e0d71a4158ae3feca2590e47ef",
       "version_major": 2,
       "version_minor": 0
      },
      "text/plain": [
       "chain 3 |          | 00:00 Status"
      ]
     },
     "metadata": {},
     "output_type": "display_data"
    },
    {
     "data": {
      "application/vnd.jupyter.widget-view+json": {
       "model_id": "6f9de289713f4ba5ae2db2cdb478ca02",
       "version_major": 2,
       "version_minor": 0
      },
      "text/plain": [
       "chain 4 |          | 00:00 Status"
      ]
     },
     "metadata": {},
     "output_type": "display_data"
    },
    {
     "name": "stdout",
     "output_type": "stream",
     "text": [
      "                                                                                                                                                                                                                                                                                                                                "
     ]
    },
    {
     "name": "stderr",
     "output_type": "stream",
     "text": [
      "23:56:02 - cmdstanpy - INFO - CmdStan done processing.\n",
      "23:56:02 - cmdstanpy - WARNING - Non-fatal error during sampling:\n",
      "Exception: lkj_corr_cholesky_lpdf: Random variable[2] is 0, but must be positive! (in 'hw663.stan', line 23, column 2 to column 35)\n",
      "\tException: lkj_corr_cholesky_lpdf: Random variable[2] is 0, but must be positive! (in 'hw663.stan', line 23, column 2 to column 35)\n",
      "\tException: lkj_corr_cholesky_lpdf: Random variable[2] is 0, but must be positive! (in 'hw663.stan', line 23, column 2 to column 35)\n",
      "\tException: lkj_corr_cholesky_lpdf: Random variable[2] is 0, but must be positive! (in 'hw663.stan', line 23, column 2 to column 35)\n",
      "\tException: lkj_corr_cholesky_lpdf: Random variable[2] is 0, but must be positive! (in 'hw663.stan', line 23, column 2 to column 35)\n",
      "\tException: lkj_corr_cholesky_lpdf: Random variable[2] is 0, but must be positive! (in 'hw663.stan', line 23, column 2 to column 35)\n",
      "\tException: lkj_corr_cholesky_lpdf: Random variable[2] is 0, but must be positive! (in 'hw663.stan', line 23, column 2 to column 35)\n",
      "\tException: lkj_corr_cholesky_lpdf: Random variable[2] is 0, but must be positive! (in 'hw663.stan', line 23, column 2 to column 35)\n",
      "\tException: lkj_corr_cholesky_lpdf: Random variable[2] is 0, but must be positive! (in 'hw663.stan', line 23, column 2 to column 35)\n",
      "\tException: lkj_corr_cholesky_lpdf: Random variable[2] is 0, but must be positive! (in 'hw663.stan', line 23, column 2 to column 35)\n",
      "\tException: lkj_corr_cholesky_lpdf: Random variable[2] is 0, but must be positive! (in 'hw663.stan', line 23, column 2 to column 35)\n",
      "\tException: lkj_corr_cholesky_lpdf: Random variable[2] is 0, but must be positive! (in 'hw663.stan', line 23, column 2 to column 35)\n",
      "Exception: lkj_corr_cholesky_lpdf: Random variable[2] is 0, but must be positive! (in 'hw663.stan', line 23, column 2 to column 35)\n",
      "\tException: lkj_corr_cholesky_lpdf: Random variable[2] is 0, but must be positive! (in 'hw663.stan', line 23, column 2 to column 35)\n",
      "\tException: lkj_corr_cholesky_lpdf: Random variable[2] is 0, but must be positive! (in 'hw663.stan', line 23, column 2 to column 35)\n",
      "\tException: lkj_corr_cholesky_lpdf: Random variable[2] is 0, but must be positive! (in 'hw663.stan', line 23, column 2 to column 35)\n",
      "\tException: lkj_corr_cholesky_lpdf: Random variable[2] is 0, but must be positive! (in 'hw663.stan', line 23, column 2 to column 35)\n",
      "\tException: lkj_corr_cholesky_lpdf: Random variable[2] is 0, but must be positive! (in 'hw663.stan', line 23, column 2 to column 35)\n",
      "\tException: lkj_corr_cholesky_lpdf: Random variable[2] is 0, but must be positive! (in 'hw663.stan', line 23, column 2 to column 35)\n",
      "Exception: lkj_corr_cholesky_lpdf: Random variable[2] is 0, but must be positive! (in 'hw663.stan', line 23, column 2 to column 35)\n",
      "\tException: lkj_corr_cholesky_lpdf: Random variable[2] is 0, but must be positive! (in 'hw663.stan', line 23, column 2 to column 35)\n",
      "\tException: lkj_corr_cholesky_lpdf: Random variable[2] is 0, but must be positive! (in 'hw663.stan', line 23, column 2 to column 35)\n",
      "\tException: lkj_corr_cholesky_lpdf: Random variable[2] is 0, but must be positive! (in 'hw663.stan', line 23, column 2 to column 35)\n",
      "\tException: lkj_corr_cholesky_lpdf: Random variable[2] is 0, but must be positive! (in 'hw663.stan', line 23, column 2 to column 35)\n",
      "\tException: lkj_corr_cholesky_lpdf: Random variable[2] is 0, but must be positive! (in 'hw663.stan', line 23, column 2 to column 35)\n",
      "\tException: lkj_corr_cholesky_lpdf: Random variable[2] is 0, but must be positive! (in 'hw663.stan', line 23, column 2 to column 35)\n",
      "\tException: lkj_corr_cholesky_lpdf: Random variable[2] is 0, but must be positive! (in 'hw663.stan', line 23, column 2 to column 35)\n",
      "\tException: lkj_corr_cholesky_lpdf: Random variable[2] is 0, but must be positive! (in 'hw663.stan', line 23, column 2 to column 35)\n",
      "\tException: lkj_corr_cholesky_lpdf: Random variable[2] is 0, but must be positive! (in 'hw663.stan', line 23, column 2 to column 35)\n",
      "\tException: lkj_corr_cholesky_lpdf: Random variable[2] is 0, but must be positive! (in 'hw663.stan', line 23, column 2 to column 35)\n",
      "Exception: lkj_corr_cholesky_lpdf: Random variable[2] is 0, but must be positive! (in 'hw663.stan', line 23, column 2 to column 35)\n",
      "\tException: lkj_corr_cholesky_lpdf: Random variable[2] is 0, but must be positive! (in 'hw663.stan', line 23, column 2 to column 35)\n",
      "\tException: lkj_corr_cholesky_lpdf: Random variable[2] is 0, but must be positive! (in 'hw663.stan', line 23, column 2 to column 35)\n",
      "\tException: lkj_corr_cholesky_lpdf: Random variable[2] is 0, but must be positive! (in 'hw663.stan', line 23, column 2 to column 35)\n",
      "\tException: lkj_corr_cholesky_lpdf: Random variable[2] is 0, but must be positive! (in 'hw663.stan', line 23, column 2 to column 35)\n",
      "Consider re-running with show_console=True if the above output is unclear!\n"
     ]
    },
    {
     "name": "stdout",
     "output_type": "stream",
     "text": [
      "\n"
     ]
    }
   ],
   "source": [
    "returns_data63 = {'N' : rets.shape[0], \n",
    "                'K' : rets.shape[1],\n",
    "                'y': rets.values.transpose(),\n",
    "                'eta': 1}\n",
    "fit63 = model63.sample(returns_data63)"
   ]
  },
  {
   "cell_type": "code",
   "execution_count": 38,
   "id": "10438770-25e7-48be-a29b-bef9f311276e",
   "metadata": {},
   "outputs": [
    {
     "data": {
      "text/plain": [
       "lp__            1.001190\n",
       "mu[1]           1.001890\n",
       "mu[2]           1.001950\n",
       "L_std[1]        1.000570\n",
       "L_std[2]        1.000730\n",
       "L_Omega[1,1]         NaN\n",
       "L_Omega[1,2]         NaN\n",
       "L_Omega[2,1]    0.999745\n",
       "L_Omega[2,2]    0.999741\n",
       "L_Sigma[1,1]    1.000570\n",
       "L_Sigma[1,2]         NaN\n",
       "L_Sigma[2,1]    1.000680\n",
       "L_Sigma[2,2]    0.999261\n",
       "y_tilde[1]      1.000130\n",
       "y_tilde[2]      0.999985\n",
       "Name: R_hat, dtype: float64"
      ]
     },
     "execution_count": 38,
     "metadata": {},
     "output_type": "execute_result"
    }
   ],
   "source": [
    "fit63.summary()['R_hat']"
   ]
  },
  {
   "cell_type": "code",
   "execution_count": 39,
   "id": "dcdfec26-b3c1-4c2b-bd1e-74331fe1586a",
   "metadata": {},
   "outputs": [
    {
     "data": {
      "text/html": [
       "<div>\n",
       "<style scoped>\n",
       "    .dataframe tbody tr th:only-of-type {\n",
       "        vertical-align: middle;\n",
       "    }\n",
       "\n",
       "    .dataframe tbody tr th {\n",
       "        vertical-align: top;\n",
       "    }\n",
       "\n",
       "    .dataframe thead th {\n",
       "        text-align: right;\n",
       "    }\n",
       "</style>\n",
       "<table border=\"1\" class=\"dataframe\">\n",
       "  <thead>\n",
       "    <tr style=\"text-align: right;\">\n",
       "      <th></th>\n",
       "      <th>chain__</th>\n",
       "      <th>iter__</th>\n",
       "      <th>draw__</th>\n",
       "      <th>lp__</th>\n",
       "      <th>accept_stat__</th>\n",
       "      <th>stepsize__</th>\n",
       "      <th>treedepth__</th>\n",
       "      <th>n_leapfrog__</th>\n",
       "      <th>divergent__</th>\n",
       "      <th>energy__</th>\n",
       "      <th>...</th>\n",
       "      <th>L_Omega[1,1]</th>\n",
       "      <th>L_Omega[2,1]</th>\n",
       "      <th>L_Omega[1,2]</th>\n",
       "      <th>L_Omega[2,2]</th>\n",
       "      <th>L_Sigma[1,1]</th>\n",
       "      <th>L_Sigma[2,1]</th>\n",
       "      <th>L_Sigma[1,2]</th>\n",
       "      <th>L_Sigma[2,2]</th>\n",
       "      <th>y_tilde[1]</th>\n",
       "      <th>y_tilde[2]</th>\n",
       "    </tr>\n",
       "  </thead>\n",
       "  <tbody>\n",
       "    <tr>\n",
       "      <th>0</th>\n",
       "      <td>1.0</td>\n",
       "      <td>1.0</td>\n",
       "      <td>1.0</td>\n",
       "      <td>-899.764</td>\n",
       "      <td>0.766211</td>\n",
       "      <td>0.261336</td>\n",
       "      <td>4.0</td>\n",
       "      <td>15.0</td>\n",
       "      <td>0.0</td>\n",
       "      <td>903.267</td>\n",
       "      <td>...</td>\n",
       "      <td>1.0</td>\n",
       "      <td>0.929476</td>\n",
       "      <td>0.0</td>\n",
       "      <td>0.368884</td>\n",
       "      <td>1.45400</td>\n",
       "      <td>1.62899</td>\n",
       "      <td>0.0</td>\n",
       "      <td>0.646502</td>\n",
       "      <td>0.561160</td>\n",
       "      <td>0.507383</td>\n",
       "    </tr>\n",
       "    <tr>\n",
       "      <th>1</th>\n",
       "      <td>1.0</td>\n",
       "      <td>2.0</td>\n",
       "      <td>2.0</td>\n",
       "      <td>-897.707</td>\n",
       "      <td>0.998009</td>\n",
       "      <td>0.261336</td>\n",
       "      <td>3.0</td>\n",
       "      <td>11.0</td>\n",
       "      <td>0.0</td>\n",
       "      <td>900.693</td>\n",
       "      <td>...</td>\n",
       "      <td>1.0</td>\n",
       "      <td>0.935447</td>\n",
       "      <td>0.0</td>\n",
       "      <td>0.353468</td>\n",
       "      <td>1.43398</td>\n",
       "      <td>1.60482</td>\n",
       "      <td>0.0</td>\n",
       "      <td>0.606397</td>\n",
       "      <td>0.062348</td>\n",
       "      <td>1.185000</td>\n",
       "    </tr>\n",
       "    <tr>\n",
       "      <th>2</th>\n",
       "      <td>1.0</td>\n",
       "      <td>3.0</td>\n",
       "      <td>3.0</td>\n",
       "      <td>-897.000</td>\n",
       "      <td>0.948802</td>\n",
       "      <td>0.261336</td>\n",
       "      <td>4.0</td>\n",
       "      <td>31.0</td>\n",
       "      <td>0.0</td>\n",
       "      <td>901.164</td>\n",
       "      <td>...</td>\n",
       "      <td>1.0</td>\n",
       "      <td>0.923825</td>\n",
       "      <td>0.0</td>\n",
       "      <td>0.382814</td>\n",
       "      <td>1.38283</td>\n",
       "      <td>1.54443</td>\n",
       "      <td>0.0</td>\n",
       "      <td>0.639981</td>\n",
       "      <td>0.791895</td>\n",
       "      <td>-0.200458</td>\n",
       "    </tr>\n",
       "    <tr>\n",
       "      <th>3</th>\n",
       "      <td>1.0</td>\n",
       "      <td>4.0</td>\n",
       "      <td>4.0</td>\n",
       "      <td>-897.324</td>\n",
       "      <td>0.965553</td>\n",
       "      <td>0.261336</td>\n",
       "      <td>3.0</td>\n",
       "      <td>15.0</td>\n",
       "      <td>0.0</td>\n",
       "      <td>901.713</td>\n",
       "      <td>...</td>\n",
       "      <td>1.0</td>\n",
       "      <td>0.930219</td>\n",
       "      <td>0.0</td>\n",
       "      <td>0.367006</td>\n",
       "      <td>1.45555</td>\n",
       "      <td>1.62670</td>\n",
       "      <td>0.0</td>\n",
       "      <td>0.641792</td>\n",
       "      <td>0.295334</td>\n",
       "      <td>1.781660</td>\n",
       "    </tr>\n",
       "    <tr>\n",
       "      <th>4</th>\n",
       "      <td>1.0</td>\n",
       "      <td>5.0</td>\n",
       "      <td>5.0</td>\n",
       "      <td>-896.842</td>\n",
       "      <td>0.986295</td>\n",
       "      <td>0.261336</td>\n",
       "      <td>3.0</td>\n",
       "      <td>15.0</td>\n",
       "      <td>0.0</td>\n",
       "      <td>898.308</td>\n",
       "      <td>...</td>\n",
       "      <td>1.0</td>\n",
       "      <td>0.933805</td>\n",
       "      <td>0.0</td>\n",
       "      <td>0.357782</td>\n",
       "      <td>1.41580</td>\n",
       "      <td>1.59632</td>\n",
       "      <td>0.0</td>\n",
       "      <td>0.611623</td>\n",
       "      <td>-1.004860</td>\n",
       "      <td>-0.968335</td>\n",
       "    </tr>\n",
       "    <tr>\n",
       "      <th>...</th>\n",
       "      <td>...</td>\n",
       "      <td>...</td>\n",
       "      <td>...</td>\n",
       "      <td>...</td>\n",
       "      <td>...</td>\n",
       "      <td>...</td>\n",
       "      <td>...</td>\n",
       "      <td>...</td>\n",
       "      <td>...</td>\n",
       "      <td>...</td>\n",
       "      <td>...</td>\n",
       "      <td>...</td>\n",
       "      <td>...</td>\n",
       "      <td>...</td>\n",
       "      <td>...</td>\n",
       "      <td>...</td>\n",
       "      <td>...</td>\n",
       "      <td>...</td>\n",
       "      <td>...</td>\n",
       "      <td>...</td>\n",
       "      <td>...</td>\n",
       "    </tr>\n",
       "    <tr>\n",
       "      <th>3995</th>\n",
       "      <td>4.0</td>\n",
       "      <td>996.0</td>\n",
       "      <td>3996.0</td>\n",
       "      <td>-901.440</td>\n",
       "      <td>0.980032</td>\n",
       "      <td>0.246968</td>\n",
       "      <td>3.0</td>\n",
       "      <td>7.0</td>\n",
       "      <td>0.0</td>\n",
       "      <td>903.441</td>\n",
       "      <td>...</td>\n",
       "      <td>1.0</td>\n",
       "      <td>0.935008</td>\n",
       "      <td>0.0</td>\n",
       "      <td>0.354626</td>\n",
       "      <td>1.52112</td>\n",
       "      <td>1.66781</td>\n",
       "      <td>0.0</td>\n",
       "      <td>0.632559</td>\n",
       "      <td>-3.495060</td>\n",
       "      <td>-3.692650</td>\n",
       "    </tr>\n",
       "    <tr>\n",
       "      <th>3996</th>\n",
       "      <td>4.0</td>\n",
       "      <td>997.0</td>\n",
       "      <td>3997.0</td>\n",
       "      <td>-901.124</td>\n",
       "      <td>0.982030</td>\n",
       "      <td>0.246968</td>\n",
       "      <td>3.0</td>\n",
       "      <td>7.0</td>\n",
       "      <td>0.0</td>\n",
       "      <td>904.198</td>\n",
       "      <td>...</td>\n",
       "      <td>1.0</td>\n",
       "      <td>0.932148</td>\n",
       "      <td>0.0</td>\n",
       "      <td>0.362078</td>\n",
       "      <td>1.50939</td>\n",
       "      <td>1.69413</td>\n",
       "      <td>0.0</td>\n",
       "      <td>0.658057</td>\n",
       "      <td>0.272746</td>\n",
       "      <td>0.829112</td>\n",
       "    </tr>\n",
       "    <tr>\n",
       "      <th>3997</th>\n",
       "      <td>4.0</td>\n",
       "      <td>998.0</td>\n",
       "      <td>3998.0</td>\n",
       "      <td>-895.927</td>\n",
       "      <td>0.951624</td>\n",
       "      <td>0.246968</td>\n",
       "      <td>3.0</td>\n",
       "      <td>15.0</td>\n",
       "      <td>0.0</td>\n",
       "      <td>904.432</td>\n",
       "      <td>...</td>\n",
       "      <td>1.0</td>\n",
       "      <td>0.931749</td>\n",
       "      <td>0.0</td>\n",
       "      <td>0.363103</td>\n",
       "      <td>1.42875</td>\n",
       "      <td>1.59964</td>\n",
       "      <td>0.0</td>\n",
       "      <td>0.623378</td>\n",
       "      <td>2.486870</td>\n",
       "      <td>3.851900</td>\n",
       "    </tr>\n",
       "    <tr>\n",
       "      <th>3998</th>\n",
       "      <td>4.0</td>\n",
       "      <td>999.0</td>\n",
       "      <td>3999.0</td>\n",
       "      <td>-896.461</td>\n",
       "      <td>0.989800</td>\n",
       "      <td>0.246968</td>\n",
       "      <td>4.0</td>\n",
       "      <td>31.0</td>\n",
       "      <td>0.0</td>\n",
       "      <td>896.724</td>\n",
       "      <td>...</td>\n",
       "      <td>1.0</td>\n",
       "      <td>0.932565</td>\n",
       "      <td>0.0</td>\n",
       "      <td>0.361002</td>\n",
       "      <td>1.45255</td>\n",
       "      <td>1.62920</td>\n",
       "      <td>0.0</td>\n",
       "      <td>0.630673</td>\n",
       "      <td>-0.508463</td>\n",
       "      <td>-0.416237</td>\n",
       "    </tr>\n",
       "    <tr>\n",
       "      <th>3999</th>\n",
       "      <td>4.0</td>\n",
       "      <td>1000.0</td>\n",
       "      <td>4000.0</td>\n",
       "      <td>-897.331</td>\n",
       "      <td>0.988453</td>\n",
       "      <td>0.246968</td>\n",
       "      <td>4.0</td>\n",
       "      <td>15.0</td>\n",
       "      <td>0.0</td>\n",
       "      <td>898.436</td>\n",
       "      <td>...</td>\n",
       "      <td>1.0</td>\n",
       "      <td>0.933110</td>\n",
       "      <td>0.0</td>\n",
       "      <td>0.359591</td>\n",
       "      <td>1.47736</td>\n",
       "      <td>1.65709</td>\n",
       "      <td>0.0</td>\n",
       "      <td>0.638590</td>\n",
       "      <td>-0.445200</td>\n",
       "      <td>0.555509</td>\n",
       "    </tr>\n",
       "  </tbody>\n",
       "</table>\n",
       "<p>4000 rows × 24 columns</p>\n",
       "</div>"
      ],
      "text/plain": [
       "      chain__  iter__  draw__     lp__  accept_stat__  stepsize__  \\\n",
       "0         1.0     1.0     1.0 -899.764       0.766211    0.261336   \n",
       "1         1.0     2.0     2.0 -897.707       0.998009    0.261336   \n",
       "2         1.0     3.0     3.0 -897.000       0.948802    0.261336   \n",
       "3         1.0     4.0     4.0 -897.324       0.965553    0.261336   \n",
       "4         1.0     5.0     5.0 -896.842       0.986295    0.261336   \n",
       "...       ...     ...     ...      ...            ...         ...   \n",
       "3995      4.0   996.0  3996.0 -901.440       0.980032    0.246968   \n",
       "3996      4.0   997.0  3997.0 -901.124       0.982030    0.246968   \n",
       "3997      4.0   998.0  3998.0 -895.927       0.951624    0.246968   \n",
       "3998      4.0   999.0  3999.0 -896.461       0.989800    0.246968   \n",
       "3999      4.0  1000.0  4000.0 -897.331       0.988453    0.246968   \n",
       "\n",
       "      treedepth__  n_leapfrog__  divergent__  energy__  ...  L_Omega[1,1]  \\\n",
       "0             4.0          15.0          0.0   903.267  ...           1.0   \n",
       "1             3.0          11.0          0.0   900.693  ...           1.0   \n",
       "2             4.0          31.0          0.0   901.164  ...           1.0   \n",
       "3             3.0          15.0          0.0   901.713  ...           1.0   \n",
       "4             3.0          15.0          0.0   898.308  ...           1.0   \n",
       "...           ...           ...          ...       ...  ...           ...   \n",
       "3995          3.0           7.0          0.0   903.441  ...           1.0   \n",
       "3996          3.0           7.0          0.0   904.198  ...           1.0   \n",
       "3997          3.0          15.0          0.0   904.432  ...           1.0   \n",
       "3998          4.0          31.0          0.0   896.724  ...           1.0   \n",
       "3999          4.0          15.0          0.0   898.436  ...           1.0   \n",
       "\n",
       "      L_Omega[2,1]  L_Omega[1,2]  L_Omega[2,2]  L_Sigma[1,1]  L_Sigma[2,1]  \\\n",
       "0         0.929476           0.0      0.368884       1.45400       1.62899   \n",
       "1         0.935447           0.0      0.353468       1.43398       1.60482   \n",
       "2         0.923825           0.0      0.382814       1.38283       1.54443   \n",
       "3         0.930219           0.0      0.367006       1.45555       1.62670   \n",
       "4         0.933805           0.0      0.357782       1.41580       1.59632   \n",
       "...            ...           ...           ...           ...           ...   \n",
       "3995      0.935008           0.0      0.354626       1.52112       1.66781   \n",
       "3996      0.932148           0.0      0.362078       1.50939       1.69413   \n",
       "3997      0.931749           0.0      0.363103       1.42875       1.59964   \n",
       "3998      0.932565           0.0      0.361002       1.45255       1.62920   \n",
       "3999      0.933110           0.0      0.359591       1.47736       1.65709   \n",
       "\n",
       "      L_Sigma[1,2]  L_Sigma[2,2]  y_tilde[1]  y_tilde[2]  \n",
       "0              0.0      0.646502    0.561160    0.507383  \n",
       "1              0.0      0.606397    0.062348    1.185000  \n",
       "2              0.0      0.639981    0.791895   -0.200458  \n",
       "3              0.0      0.641792    0.295334    1.781660  \n",
       "4              0.0      0.611623   -1.004860   -0.968335  \n",
       "...            ...           ...         ...         ...  \n",
       "3995           0.0      0.632559   -3.495060   -3.692650  \n",
       "3996           0.0      0.658057    0.272746    0.829112  \n",
       "3997           0.0      0.623378    2.486870    3.851900  \n",
       "3998           0.0      0.630673   -0.508463   -0.416237  \n",
       "3999           0.0      0.638590   -0.445200    0.555509  \n",
       "\n",
       "[4000 rows x 24 columns]"
      ]
     },
     "execution_count": 39,
     "metadata": {},
     "output_type": "execute_result"
    }
   ],
   "source": [
    "fit63.draws_pd()"
   ]
  },
  {
   "cell_type": "code",
   "execution_count": 40,
   "id": "d16c8357-b562-4879-b5c9-b4c6f43edfe6",
   "metadata": {},
   "outputs": [
    {
     "data": {
      "text/plain": [
       "<matplotlib.collections.PathCollection at 0x7ff41e289ad0>"
      ]
     },
     "execution_count": 40,
     "metadata": {},
     "output_type": "execute_result"
    },
    {
     "data": {
      "image/png": "[encoded data removed]",
      "text/plain": [
       "<Figure size 640x480 with 1 Axes>"
      ]
     },
     "metadata": {},
     "output_type": "display_data"
    }
   ],
   "source": [
    "plt.scatter(fit63.draws_pd()['y_tilde[1]'], fit63.draws_pd()['y_tilde[2]'])"
   ]
  }
 ],
 "metadata": {
  "kernelspec": {
   "display_name": "Python 3 (ipykernel)",
   "language": "python",
   "name": "python3"
  },
  "language_info": {
   "codemirror_mode": {
    "name": "ipython",
    "version": 3
   },
   "file_extension": ".py",
   "mimetype": "text/x-python",
   "name": "python",
   "nbconvert_exporter": "python",
   "pygments_lexer": "ipython3",
   "version": "3.11.5"
  }
 },
 "nbformat": 4,
 "nbformat_minor": 5
}
