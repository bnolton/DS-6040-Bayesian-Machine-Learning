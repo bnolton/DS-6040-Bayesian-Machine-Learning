{
 "cells": [
  {
   "cell_type": "markdown",
   "id": "540a0931-2d8e-4e91-9f6b-1687fe31d514",
   "metadata": {},
   "source": [
    "# Assignment 8\n",
    "\n",
    "In this assignment we'll estimate a regression model using the horseshoe prior. We're going to analyze [some data I found on Kaggle](https://www.kaggle.com/datasets/shubhambathwal/flight-price-prediction) and try to predict the price of flights. \n",
    "\n",
    "## Instructions\n",
    "\n",
    "Please complete this Jupyter notebook and **don't** convert it to a `.py` file. Upload this notebook, along with any `.stan` files and any data sets as a `zip` file to Gradescope. Your work will be manually graded by our TA. \n"
   ]
  },
  {
   "cell_type": "markdown",
   "id": "af47e640-9072-4668-860d-8f23d9beddf7",
   "metadata": {},
   "source": [
    "### Data Cleaning\n",
    "\n",
    "I will make some transformations to prepare this data set for regression:\n",
    "\n",
    " - create dummy columns for the categorical data,\n",
    " - transform price to log price,\n",
    " - create interaction terms.\n",
    "\n",
    "Note that my decision to disregard certain columns, or interactions or transformations is a reflection of my prior knowledge. Ommitting a column is equivalent to setting a very informative prior for that hypothetical column's weight (centered at $0$). Commonly performed procedures have a place in the Bayesian philosophy, and are not as ad hoc as they seem to be in the frequentist domain!"
   ]
  },
  {
   "cell_type": "code",
   "execution_count": 123,
   "id": "9ee6059c-b60a-4508-9e84-d947cb9596f2",
   "metadata": {},
   "outputs": [],
   "source": [
    "import pandas as pd\n",
    "import numpy as np\n",
    "import os\n",
    "from cmdstanpy import CmdStanModel\n",
    "import matplotlib.pyplot as plt\n",
    "import math"
   ]
  },
  {
   "cell_type": "code",
   "execution_count": 2,
   "id": "a41c3363-11e5-4ae6-bfb9-58f0570f051c",
   "metadata": {},
   "outputs": [
    {
     "data": {
      "text/html": [
       "<div>\n",
       "<style scoped>\n",
       "    .dataframe tbody tr th:only-of-type {\n",
       "        vertical-align: middle;\n",
       "    }\n",
       "\n",
       "    .dataframe tbody tr th {\n",
       "        vertical-align: top;\n",
       "    }\n",
       "\n",
       "    .dataframe thead th {\n",
       "        text-align: right;\n",
       "    }\n",
       "</style>\n",
       "<table border=\"1\" class=\"dataframe\">\n",
       "  <thead>\n",
       "    <tr style=\"text-align: right;\">\n",
       "      <th></th>\n",
       "      <th>airline</th>\n",
       "      <th>flight</th>\n",
       "      <th>source_city</th>\n",
       "      <th>departure_time</th>\n",
       "      <th>stops</th>\n",
       "      <th>arrival_time</th>\n",
       "      <th>destination_city</th>\n",
       "      <th>class</th>\n",
       "      <th>duration</th>\n",
       "      <th>days_left</th>\n",
       "      <th>price</th>\n",
       "    </tr>\n",
       "  </thead>\n",
       "  <tbody>\n",
       "    <tr>\n",
       "      <th>0</th>\n",
       "      <td>SpiceJet</td>\n",
       "      <td>SG-8709</td>\n",
       "      <td>Delhi</td>\n",
       "      <td>Evening</td>\n",
       "      <td>zero</td>\n",
       "      <td>Night</td>\n",
       "      <td>Mumbai</td>\n",
       "      <td>Economy</td>\n",
       "      <td>2.17</td>\n",
       "      <td>1</td>\n",
       "      <td>5953</td>\n",
       "    </tr>\n",
       "    <tr>\n",
       "      <th>1</th>\n",
       "      <td>SpiceJet</td>\n",
       "      <td>SG-8157</td>\n",
       "      <td>Delhi</td>\n",
       "      <td>Early_Morning</td>\n",
       "      <td>zero</td>\n",
       "      <td>Morning</td>\n",
       "      <td>Mumbai</td>\n",
       "      <td>Economy</td>\n",
       "      <td>2.33</td>\n",
       "      <td>1</td>\n",
       "      <td>5953</td>\n",
       "    </tr>\n",
       "    <tr>\n",
       "      <th>2</th>\n",
       "      <td>AirAsia</td>\n",
       "      <td>I5-764</td>\n",
       "      <td>Delhi</td>\n",
       "      <td>Early_Morning</td>\n",
       "      <td>zero</td>\n",
       "      <td>Early_Morning</td>\n",
       "      <td>Mumbai</td>\n",
       "      <td>Economy</td>\n",
       "      <td>2.17</td>\n",
       "      <td>1</td>\n",
       "      <td>5956</td>\n",
       "    </tr>\n",
       "    <tr>\n",
       "      <th>3</th>\n",
       "      <td>Vistara</td>\n",
       "      <td>UK-995</td>\n",
       "      <td>Delhi</td>\n",
       "      <td>Morning</td>\n",
       "      <td>zero</td>\n",
       "      <td>Afternoon</td>\n",
       "      <td>Mumbai</td>\n",
       "      <td>Economy</td>\n",
       "      <td>2.25</td>\n",
       "      <td>1</td>\n",
       "      <td>5955</td>\n",
       "    </tr>\n",
       "    <tr>\n",
       "      <th>4</th>\n",
       "      <td>Vistara</td>\n",
       "      <td>UK-963</td>\n",
       "      <td>Delhi</td>\n",
       "      <td>Morning</td>\n",
       "      <td>zero</td>\n",
       "      <td>Morning</td>\n",
       "      <td>Mumbai</td>\n",
       "      <td>Economy</td>\n",
       "      <td>2.33</td>\n",
       "      <td>1</td>\n",
       "      <td>5955</td>\n",
       "    </tr>\n",
       "  </tbody>\n",
       "</table>\n",
       "</div>"
      ],
      "text/plain": [
       "    airline   flight source_city departure_time stops   arrival_time  \\\n",
       "0  SpiceJet  SG-8709       Delhi        Evening  zero          Night   \n",
       "1  SpiceJet  SG-8157       Delhi  Early_Morning  zero        Morning   \n",
       "2   AirAsia   I5-764       Delhi  Early_Morning  zero  Early_Morning   \n",
       "3   Vistara   UK-995       Delhi        Morning  zero      Afternoon   \n",
       "4   Vistara   UK-963       Delhi        Morning  zero        Morning   \n",
       "\n",
       "  destination_city    class  duration  days_left  price  \n",
       "0           Mumbai  Economy      2.17          1   5953  \n",
       "1           Mumbai  Economy      2.33          1   5953  \n",
       "2           Mumbai  Economy      2.17          1   5956  \n",
       "3           Mumbai  Economy      2.25          1   5955  \n",
       "4           Mumbai  Economy      2.33          1   5955  "
      ]
     },
     "execution_count": 2,
     "metadata": {},
     "output_type": "execute_result"
    }
   ],
   "source": [
    "flights = pd.read_csv(\"Clean_Dataset.csv\", index_col=0)\n",
    "flights.head()"
   ]
  },
  {
   "cell_type": "code",
   "execution_count": 3,
   "id": "9f6837e6-671d-4441-92ba-cfdba6bd1030",
   "metadata": {},
   "outputs": [],
   "source": [
    "# change dependent variabe by taking the logarithm\n",
    "flights['log_price'] = np.log(flights['price'])\n",
    "flights = flights.drop('price', axis=1)"
   ]
  },
  {
   "cell_type": "code",
   "execution_count": 4,
   "id": "096033b7-69c9-41ba-8221-6fa45ae2f67f",
   "metadata": {},
   "outputs": [],
   "source": [
    "# create airlines dummies\n",
    "# baseline is \"other\" (AirAsia\",\"GO_FIRST\", or \"SpiceJet\")\n",
    "airline_dummies = pd.get_dummies(flights['airline']).astype(float)\n",
    "airline_dummies = airline_dummies.drop([\"AirAsia\",\"GO_FIRST\",\"SpiceJet\"],axis=1)"
   ]
  },
  {
   "cell_type": "code",
   "execution_count": 5,
   "id": "3bfc2583-77d5-4387-b8f5-05ed9ff97842",
   "metadata": {},
   "outputs": [
    {
     "data": {
      "text/plain": [
       "0    0.0\n",
       "1    0.0\n",
       "2    0.0\n",
       "3    0.0\n",
       "4    0.0\n",
       "Name: Business, dtype: float64"
      ]
     },
     "execution_count": 5,
     "metadata": {},
     "output_type": "execute_result"
    }
   ],
   "source": [
    "# one dummy for business class (baseline is economy)\n",
    "class_dummies = pd.get_dummies(flights['class']).astype(float)\n",
    "class_dummies = class_dummies['Business']\n",
    "class_dummies.head()"
   ]
  },
  {
   "cell_type": "code",
   "execution_count": 6,
   "id": "9f52eaf4-1537-4883-a7cd-0f565525ed1d",
   "metadata": {},
   "outputs": [
    {
     "data": {
      "text/html": [
       "<div>\n",
       "<style scoped>\n",
       "    .dataframe tbody tr th:only-of-type {\n",
       "        vertical-align: middle;\n",
       "    }\n",
       "\n",
       "    .dataframe tbody tr th {\n",
       "        vertical-align: top;\n",
       "    }\n",
       "\n",
       "    .dataframe thead th {\n",
       "        text-align: right;\n",
       "    }\n",
       "</style>\n",
       "<table border=\"1\" class=\"dataframe\">\n",
       "  <thead>\n",
       "    <tr style=\"text-align: right;\">\n",
       "      <th></th>\n",
       "      <th>duration</th>\n",
       "      <th>days_left</th>\n",
       "      <th>Air_India</th>\n",
       "      <th>Indigo</th>\n",
       "      <th>Vistara</th>\n",
       "      <th>Business</th>\n",
       "    </tr>\n",
       "  </thead>\n",
       "  <tbody>\n",
       "    <tr>\n",
       "      <th>0</th>\n",
       "      <td>2.17</td>\n",
       "      <td>1</td>\n",
       "      <td>0.0</td>\n",
       "      <td>0.0</td>\n",
       "      <td>0.0</td>\n",
       "      <td>0.0</td>\n",
       "    </tr>\n",
       "    <tr>\n",
       "      <th>1</th>\n",
       "      <td>2.33</td>\n",
       "      <td>1</td>\n",
       "      <td>0.0</td>\n",
       "      <td>0.0</td>\n",
       "      <td>0.0</td>\n",
       "      <td>0.0</td>\n",
       "    </tr>\n",
       "    <tr>\n",
       "      <th>2</th>\n",
       "      <td>2.17</td>\n",
       "      <td>1</td>\n",
       "      <td>0.0</td>\n",
       "      <td>0.0</td>\n",
       "      <td>0.0</td>\n",
       "      <td>0.0</td>\n",
       "    </tr>\n",
       "    <tr>\n",
       "      <th>3</th>\n",
       "      <td>2.25</td>\n",
       "      <td>1</td>\n",
       "      <td>0.0</td>\n",
       "      <td>0.0</td>\n",
       "      <td>1.0</td>\n",
       "      <td>0.0</td>\n",
       "    </tr>\n",
       "    <tr>\n",
       "      <th>4</th>\n",
       "      <td>2.33</td>\n",
       "      <td>1</td>\n",
       "      <td>0.0</td>\n",
       "      <td>0.0</td>\n",
       "      <td>1.0</td>\n",
       "      <td>0.0</td>\n",
       "    </tr>\n",
       "  </tbody>\n",
       "</table>\n",
       "</div>"
      ],
      "text/plain": [
       "   duration  days_left  Air_India  Indigo  Vistara  Business\n",
       "0      2.17          1        0.0     0.0      0.0       0.0\n",
       "1      2.33          1        0.0     0.0      0.0       0.0\n",
       "2      2.17          1        0.0     0.0      0.0       0.0\n",
       "3      2.25          1        0.0     0.0      1.0       0.0\n",
       "4      2.33          1        0.0     0.0      1.0       0.0"
      ]
     },
     "execution_count": 6,
     "metadata": {},
     "output_type": "execute_result"
    }
   ],
   "source": [
    "# create predictor matrix\n",
    "X = pd.concat([flights[['duration', 'days_left']], airline_dummies, class_dummies], axis=1)\n",
    "X.head()"
   ]
  },
  {
   "cell_type": "markdown",
   "id": "aa62d165-4cd8-416a-b5ee-b20516cc32f3",
   "metadata": {},
   "source": [
    "## Problem 1: Running MCMC\n",
    "\n",
    "There's a lot of data here, which means running MCMC the way we typically do is going to take a long time. Let's start by only using some of the rows. Feel free to adjust the variable below to keep as many rows as you want--the lower the number the faster your code. \n",
    "\n",
    "Note that your inferences will be compromised because we are throwing away data, in a sense, but we need to keep this data manageable, especially while we're getting our code ready for prime time. \n",
    "\n",
    "Do not run a variational algorithm yet! We'll do that in the next problem!\n",
    "\n",
    "Note that if you keep too few rows, there's a chance that a dummy column will have all $1$s or all $0$s. This is a problem because it will introduce collinearity. Also, it will make those predictors look unimportant even when they are!\n",
    "\n",
    "We shuffle the rows before selecting some of them to reduce the chances this happens. We also check to make sure indicator columns are not all $1$ or all $0$. If they were, the column average would be $1$ or $0$ exactly "
   ]
  },
  {
   "cell_type": "code",
   "execution_count": 7,
   "id": "66623c3f-29ef-4c0c-9032-e0dbbf8a59f8",
   "metadata": {},
   "outputs": [
    {
     "data": {
      "text/plain": [
       "duration     13.0118\n",
       "days_left    27.3500\n",
       "Air_India     0.2700\n",
       "Indigo        0.1500\n",
       "Vistara       0.4600\n",
       "Business      0.3300\n",
       "dtype: float64"
      ]
     },
     "execution_count": 7,
     "metadata": {},
     "output_type": "execute_result"
    }
   ],
   "source": [
    "num_rows_to_keep = 100 # change me if you want!\n",
    "row_indexes = np.arange(0,X.shape[0])\n",
    "np.random.shuffle(row_indexes)\n",
    "rows_to_keep = row_indexes[0:num_rows_to_keep]\n",
    "baby_X = X.iloc[rows_to_keep,]\n",
    "baby_y = flights.loc[rows_to_keep,'log_price']\n",
    "baby_X.mean(axis=0)"
   ]
  },
  {
   "cell_type": "markdown",
   "id": "a607d383-7b70-4154-a168-6b8fe385be53",
   "metadata": {},
   "source": [
    "1.\n",
    "\n",
    "Write `.stan` file and estimate your model using the NUTS algorithm."
   ]
  },
  {
   "cell_type": "code",
   "execution_count": 30,
   "id": "8cb61f30-c84d-4b78-a2f7-89210b098896",
   "metadata": {},
   "outputs": [
    {
     "name": "stderr",
     "output_type": "stream",
     "text": [
      "19:17:37 - cmdstanpy - INFO - compiling stan file /tmp/tmpx3jt9qai/tmpodcbflzu.stan to exe file /bml24/Assignment 8/mlr_horseshoe\n",
      "19:17:58 - cmdstanpy - INFO - compiled model executable: /bml24/Assignment 8/mlr_horseshoe\n"
     ]
    }
   ],
   "source": [
    "model_code = os.path.join('.', 'mlr_horseshoe.stan')\n",
    "model = CmdStanModel(stan_file=model_code)"
   ]
  },
  {
   "cell_type": "code",
   "execution_count": 31,
   "id": "8917c41c-f894-448d-bf1e-208d143f455d",
   "metadata": {},
   "outputs": [
    {
     "name": "stderr",
     "output_type": "stream",
     "text": [
      "19:18:16 - cmdstanpy - INFO - CmdStan start processing\n"
     ]
    },
    {
     "data": {
      "application/vnd.jupyter.widget-view+json": {
       "model_id": "c69460d8ed57410abc5ce1ef9dba9152",
       "version_major": 2,
       "version_minor": 0
      },
      "text/plain": [
       "chain 1 |          | 00:00 Status"
      ]
     },
     "metadata": {},
     "output_type": "display_data"
    },
    {
     "data": {
      "application/vnd.jupyter.widget-view+json": {
       "model_id": "b0ad6b2940a54491ba03ee0f1995b11c",
       "version_major": 2,
       "version_minor": 0
      },
      "text/plain": [
       "chain 2 |          | 00:00 Status"
      ]
     },
     "metadata": {},
     "output_type": "display_data"
    },
    {
     "data": {
      "application/vnd.jupyter.widget-view+json": {
       "model_id": "b761138955e24651a22d1a804f3f290d",
       "version_major": 2,
       "version_minor": 0
      },
      "text/plain": [
       "chain 3 |          | 00:00 Status"
      ]
     },
     "metadata": {},
     "output_type": "display_data"
    },
    {
     "data": {
      "application/vnd.jupyter.widget-view+json": {
       "model_id": "77a6e8f448674385b847781b0843de1a",
       "version_major": 2,
       "version_minor": 0
      },
      "text/plain": [
       "chain 4 |          | 00:00 Status"
      ]
     },
     "metadata": {},
     "output_type": "display_data"
    },
    {
     "name": "stdout",
     "output_type": "stream",
     "text": [
      "                                                                                                                                                                                                                                                                                                                                "
     ]
    },
    {
     "name": "stderr",
     "output_type": "stream",
     "text": [
      "19:18:17 - cmdstanpy - INFO - CmdStan done processing.\n",
      "19:18:17 - cmdstanpy - WARNING - Non-fatal error during sampling:\n",
      "Exception: normal_lpdf: Scale parameter[1] is 0, but must be positive! (in 'mlr_horseshoe.stan', line 23, column 2 to column 33)\n",
      "Consider re-running with show_console=True if the above output is unclear!\n",
      "19:18:17 - cmdstanpy - WARNING - Some chains may have failed to converge.\n",
      "\tChain 1 had 23 divergent transitions (2.3%)\n",
      "\tChain 2 had 24 divergent transitions (2.4%)\n",
      "\tChain 3 had 10 divergent transitions (1.0%)\n",
      "\tChain 4 had 22 divergent transitions (2.2%)\n",
      "\tUse the \"diagnose()\" method on the CmdStanMCMC object to see further information.\n"
     ]
    },
    {
     "name": "stdout",
     "output_type": "stream",
     "text": [
      "\n"
     ]
    }
   ],
   "source": [
    "our_data = {'N' : num_rows_to_keep, 'K': 6, 'X': baby_X, 'y':baby_y}\n",
    "fit = model.sample(data = our_data)"
   ]
  },
  {
   "cell_type": "markdown",
   "id": "c5f1afe4-ce51-48ef-895b-2034a4f1a067",
   "metadata": {},
   "source": [
    "2.\n",
    "\n",
    "Write code to check that **all** of your $\\hat{R}$ convergence diagnostics. Use a threshold of $1.01$. Be honest!\n",
    "\n",
    "You might see some warnings about \"divergent transitions.\" This means that the geometry of the posterior is relatively complicated, and the NUTS algorithm isn't having as easy of a time with it. This is common with the horseshoe prior.\n",
    "\n",
    "The warnings can be addressed by \n",
    "\n",
    " - re-tuning the NUTS algorithm (not discussed),\n",
    " - writing the horseshoe prior differently in our `.stan` file (not discussed), or\n",
    " - **just running the NUTS sampler for longer.** \n",
    "\n",
    "Indeed, $\\hat{R}$ will still be our metric to tell us if we didn't run our chain for long enough. If all of them are below $1.01$, then you can ignore the warnings. \n"
   ]
  },
  {
   "cell_type": "code",
   "execution_count": 88,
   "id": "50d8fdf9-9071-4ad5-9ab4-b90acde85fc1",
   "metadata": {},
   "outputs": [
    {
     "data": {
      "text/html": [
       "<div>\n",
       "<style scoped>\n",
       "    .dataframe tbody tr th:only-of-type {\n",
       "        vertical-align: middle;\n",
       "    }\n",
       "\n",
       "    .dataframe tbody tr th {\n",
       "        vertical-align: top;\n",
       "    }\n",
       "\n",
       "    .dataframe thead th {\n",
       "        text-align: right;\n",
       "    }\n",
       "</style>\n",
       "<table border=\"1\" class=\"dataframe\">\n",
       "  <thead>\n",
       "    <tr style=\"text-align: right;\">\n",
       "      <th></th>\n",
       "      <th>Mean</th>\n",
       "      <th>MCSE</th>\n",
       "      <th>StdDev</th>\n",
       "      <th>5%</th>\n",
       "      <th>50%</th>\n",
       "      <th>95%</th>\n",
       "      <th>N_Eff</th>\n",
       "      <th>N_Eff/s</th>\n",
       "      <th>R_hat</th>\n",
       "    </tr>\n",
       "  </thead>\n",
       "  <tbody>\n",
       "    <tr>\n",
       "      <th>lp__</th>\n",
       "      <td>-38.122100</td>\n",
       "      <td>0.075940</td>\n",
       "      <td>2.812380</td>\n",
       "      <td>-43.213400</td>\n",
       "      <td>-37.761600</td>\n",
       "      <td>-34.174400</td>\n",
       "      <td>1371.530000</td>\n",
       "      <td>1769.710000</td>\n",
       "      <td>1.002170</td>\n",
       "    </tr>\n",
       "    <tr>\n",
       "      <th>alpha</th>\n",
       "      <td>8.727430</td>\n",
       "      <td>0.003258</td>\n",
       "      <td>0.134920</td>\n",
       "      <td>8.507410</td>\n",
       "      <td>8.728950</td>\n",
       "      <td>8.946360</td>\n",
       "      <td>1714.830000</td>\n",
       "      <td>2212.680000</td>\n",
       "      <td>1.001040</td>\n",
       "    </tr>\n",
       "    <tr>\n",
       "      <th>beta[1]</th>\n",
       "      <td>0.004438</td>\n",
       "      <td>0.000098</td>\n",
       "      <td>0.004990</td>\n",
       "      <td>-0.003191</td>\n",
       "      <td>0.004066</td>\n",
       "      <td>0.012983</td>\n",
       "      <td>2582.060000</td>\n",
       "      <td>3331.690000</td>\n",
       "      <td>0.999685</td>\n",
       "    </tr>\n",
       "    <tr>\n",
       "      <th>beta[2]</th>\n",
       "      <td>-0.018238</td>\n",
       "      <td>0.000045</td>\n",
       "      <td>0.002453</td>\n",
       "      <td>-0.022220</td>\n",
       "      <td>-0.018277</td>\n",
       "      <td>-0.014298</td>\n",
       "      <td>2997.670000</td>\n",
       "      <td>3867.960000</td>\n",
       "      <td>0.999843</td>\n",
       "    </tr>\n",
       "    <tr>\n",
       "      <th>beta[3]</th>\n",
       "      <td>0.409049</td>\n",
       "      <td>0.003429</td>\n",
       "      <td>0.133388</td>\n",
       "      <td>0.180979</td>\n",
       "      <td>0.414921</td>\n",
       "      <td>0.617173</td>\n",
       "      <td>1513.360000</td>\n",
       "      <td>1952.720000</td>\n",
       "      <td>1.003070</td>\n",
       "    </tr>\n",
       "    <tr>\n",
       "      <th>beta[4]</th>\n",
       "      <td>0.133984</td>\n",
       "      <td>0.003327</td>\n",
       "      <td>0.125314</td>\n",
       "      <td>-0.044296</td>\n",
       "      <td>0.127100</td>\n",
       "      <td>0.354077</td>\n",
       "      <td>1418.810000</td>\n",
       "      <td>1830.720000</td>\n",
       "      <td>1.001010</td>\n",
       "    </tr>\n",
       "    <tr>\n",
       "      <th>beta[5]</th>\n",
       "      <td>0.576292</td>\n",
       "      <td>0.003145</td>\n",
       "      <td>0.124758</td>\n",
       "      <td>0.363763</td>\n",
       "      <td>0.579423</td>\n",
       "      <td>0.781558</td>\n",
       "      <td>1573.160000</td>\n",
       "      <td>2029.890000</td>\n",
       "      <td>1.002240</td>\n",
       "    </tr>\n",
       "    <tr>\n",
       "      <th>beta[6]</th>\n",
       "      <td>2.040920</td>\n",
       "      <td>0.001496</td>\n",
       "      <td>0.080865</td>\n",
       "      <td>1.905710</td>\n",
       "      <td>2.041220</td>\n",
       "      <td>2.171960</td>\n",
       "      <td>2921.580000</td>\n",
       "      <td>3769.780000</td>\n",
       "      <td>0.999772</td>\n",
       "    </tr>\n",
       "    <tr>\n",
       "      <th>sigma</th>\n",
       "      <td>0.331107</td>\n",
       "      <td>0.000514</td>\n",
       "      <td>0.024760</td>\n",
       "      <td>0.294196</td>\n",
       "      <td>0.329023</td>\n",
       "      <td>0.374252</td>\n",
       "      <td>2316.307539</td>\n",
       "      <td>2988.783921</td>\n",
       "      <td>1.001591</td>\n",
       "    </tr>\n",
       "  </tbody>\n",
       "</table>\n",
       "</div>"
      ],
      "text/plain": [
       "              Mean      MCSE    StdDev         5%        50%        95%  \\\n",
       "lp__    -38.122100  0.075940  2.812380 -43.213400 -37.761600 -34.174400   \n",
       "alpha     8.727430  0.003258  0.134920   8.507410   8.728950   8.946360   \n",
       "beta[1]   0.004438  0.000098  0.004990  -0.003191   0.004066   0.012983   \n",
       "beta[2]  -0.018238  0.000045  0.002453  -0.022220  -0.018277  -0.014298   \n",
       "beta[3]   0.409049  0.003429  0.133388   0.180979   0.414921   0.617173   \n",
       "beta[4]   0.133984  0.003327  0.125314  -0.044296   0.127100   0.354077   \n",
       "beta[5]   0.576292  0.003145  0.124758   0.363763   0.579423   0.781558   \n",
       "beta[6]   2.040920  0.001496  0.080865   1.905710   2.041220   2.171960   \n",
       "sigma     0.331107  0.000514  0.024760   0.294196   0.329023   0.374252   \n",
       "\n",
       "               N_Eff      N_Eff/s     R_hat  \n",
       "lp__     1371.530000  1769.710000  1.002170  \n",
       "alpha    1714.830000  2212.680000  1.001040  \n",
       "beta[1]  2582.060000  3331.690000  0.999685  \n",
       "beta[2]  2997.670000  3867.960000  0.999843  \n",
       "beta[3]  1513.360000  1952.720000  1.003070  \n",
       "beta[4]  1418.810000  1830.720000  1.001010  \n",
       "beta[5]  1573.160000  2029.890000  1.002240  \n",
       "beta[6]  2921.580000  3769.780000  0.999772  \n",
       "sigma    2316.307539  2988.783921  1.001591  "
      ]
     },
     "execution_count": 88,
     "metadata": {},
     "output_type": "execute_result"
    }
   ],
   "source": [
    "fit.summary().iloc[0:9]"
   ]
  },
  {
   "cell_type": "markdown",
   "id": "85ef0fe1-e6db-4355-8158-db12cb8e2714",
   "metadata": {},
   "source": [
    "All the $\\hat{R}$s are indeed less than 1.01 indicating the model is good to use and I can ignore the warnings."
   ]
  },
  {
   "cell_type": "markdown",
   "id": "36551273-8418-4cef-90cd-cad025d0ec18",
   "metadata": {},
   "source": [
    "3.\n",
    "\n",
    "What is the estimate of the intercept? What is its interpretation? What is a credible interval for this quantity? Provide an accompanying histogram."
   ]
  },
  {
   "cell_type": "markdown",
   "id": "c20a57be-3414-4a18-b57e-88fac1426fab",
   "metadata": {},
   "source": [
    "The estimate for the intercept is 8.73493. This means we expect a ticket to cost $6216.30 (e^8.73493). The credible interval is (8.51778, 8.95713). Below is the histogram for the intercept."
   ]
  },
  {
   "cell_type": "code",
   "execution_count": 135,
   "id": "7467fd6f-4048-4a9c-8ded-ccb07a3d2d8c",
   "metadata": {},
   "outputs": [
    {
     "data": {
      "image/png": "[encoded data removed]",
      "text/plain": [
       "<Figure size 640x480 with 1 Axes>"
      ]
     },
     "metadata": {},
     "output_type": "display_data"
    }
   ],
   "source": [
    "plt.hist(fit.draws_pd()['alpha'], bins=24)\n",
    "plt.show()"
   ]
  },
  {
   "cell_type": "markdown",
   "id": "87ca29ab-8343-4d48-9ca2-55f84069c074",
   "metadata": {},
   "source": [
    "4.\n",
    "\n",
    "What is the estimate of the standard deviation of the noise? What is its interpretation? What is a credible interval for this quantity? Provide an accompanying histogram."
   ]
  },
  {
   "cell_type": "markdown",
   "id": "3d3ece89-527f-41b6-a91b-7b0ff261db13",
   "metadata": {},
   "source": [
    "The estimate for the standard deviation of the noise is 0.330693. This means the values are dispersed around their mean value by 0.33. This seems like a low value given the constext which means there is not a lot of variation in the values. The credible interval is (0.293442, 0.374061). Below is the histogram for sigma."
   ]
  },
  {
   "cell_type": "code",
   "execution_count": 137,
   "id": "dacb712b-efea-48f0-9ea1-03f2d3b13588",
   "metadata": {},
   "outputs": [
    {
     "data": {
      "image/png": "[encoded data removed]",
      "text/plain": [
       "<Figure size 640x480 with 1 Axes>"
      ]
     },
     "metadata": {},
     "output_type": "display_data"
    }
   ],
   "source": [
    "plt.hist(fit.draws_pd()['sigma'], bins=24)\n",
    "plt.show()"
   ]
  },
  {
   "cell_type": "markdown",
   "id": "03ded137-4273-4835-a863-c9988a68bdde",
   "metadata": {},
   "source": [
    "5.\n",
    "\n",
    "Use a scatterplot matrix and some credible intervals to visualize the $\\beta$ weight samples. Do any of the predictors look unimportant? Do any of them look correlated?\n",
    "\n"
   ]
  },
  {
   "cell_type": "code",
   "execution_count": 73,
   "id": "17ebc8a3-9d03-4e30-a2b4-232babcc87d7",
   "metadata": {},
   "outputs": [
    {
     "data": {
      "image/png": "[encoded data removed]",
      "text/plain": [
       "<Figure size 640x480 with 1 Axes>"
      ]
     },
     "metadata": {},
     "output_type": "display_data"
    }
   ],
   "source": [
    "plt.hist(fit.draws_pd()['beta[1]'], color='red')\n",
    "plt.hist(fit.draws_pd()['beta[2]'], color='orange')\n",
    "plt.hist(fit.draws_pd()['beta[3]'], color='yellow')\n",
    "plt.hist(fit.draws_pd()['beta[4]'], color='green')\n",
    "plt.hist(fit.draws_pd()['beta[5]'], color='blue')\n",
    "plt.hist(fit.draws_pd()['beta[6]'], color='purple')\n",
    "plt.show()"
   ]
  },
  {
   "cell_type": "markdown",
   "id": "243f5c1e-9560-4ffa-a9a5-5011319e7469",
   "metadata": {},
   "source": [
    "Beta[1] and beta[2] appear to be unimportant since their menas are practically 0 with little width. Beta[3] and beta[5] look like they could be correlated since their peaks are around the same, so they warrant a closer look."
   ]
  },
  {
   "cell_type": "markdown",
   "id": "38626e8d-293d-4247-b9d5-0dc8ecfcdd83",
   "metadata": {},
   "source": [
    "6.\n",
    "\n",
    "Pick an arbitrary observation number (call it $i$). This corresponds to the index of a row in your predictor matrix. \n",
    "\n",
    "Plot the posterior predictions for $\\tilde{y}_i$ for this particular predictor. There are many simulations for this one quantity.\n",
    "\n",
    "Compare them to the actual dependent observation at that row $y_i$. Ideally your $y_i$ should be in the center of the histogram of predictions. Overlay a vertical line to show where this $y_i$ is.\n",
    "\n",
    "Once you're convinced you have working code, copy/paste it into a function definition so that you can quickly switch between different predictions. \n",
    "\n",
    "NB: `stan` indexes start at $1$, while Python indexes start at $0$!"
   ]
  },
  {
   "cell_type": "code",
   "execution_count": 128,
   "id": "33ca8446-fc38-46b5-b955-602294ba3931",
   "metadata": {},
   "outputs": [
    {
     "data": {
      "image/png": "[encoded data removed]",
      "text/plain": [
       "<Figure size 640x480 with 1 Axes>"
      ]
     },
     "metadata": {},
     "output_type": "display_data"
    }
   ],
   "source": [
    "def plot_posterior_predictive_one_predictor(arb_row):\n",
    "    bins = np.arange((math.floor(fit.draws_pd()[f'y_tilde[{arb_row}]'].min() * 10) / 10), (math.ceil(fit.draws_pd()[f'y_tilde[{arb_row}]'].max() * 10) / 10), 0.1)\n",
    "    plt.hist(fit.draws_pd()[f'y_tilde[{arb_row}]'], bins=bins, edgecolor='black')\n",
    "    plt.axvline(x=baby_y.iloc[arb_row-1], color='red', linewidth=2, label=f\"Actual y[{arb_row}] = {baby_y.iloc[arb_row-1].round(3)}\")\n",
    "    plt.plot([],[], ' ', label=f\"Median of y[{arb_row}] = {fit.summary().loc['y_tilde[1]', '50%'].round(3)}\")\n",
    "    plt.plot([],[], ' ', label=f\"Mean of y[{arb_row}] = {fit.summary().loc['y_tilde[1]', 'Mean'].round(3)}\")\n",
    "    plt.legend()\n",
    "    plt.tight_layout()\n",
    "    plt.title(\"Posterior Predictive Distribution for y[{}]\".format(arb_row))\n",
    "    plt.ylabel(\"Frequency\")\n",
    "    plt.xlabel(\"Values\")\n",
    "    plt.show()\n",
    "plot_posterior_predictive_one_predictor(40)"
   ]
  },
  {
   "cell_type": "markdown",
   "id": "e2aadf8b-ab24-4bd8-938f-9fd178068345",
   "metadata": {},
   "source": [
    "## Problem 2: Running Variational Inference Algorithms\n",
    "\n",
    "There's a lot of data here, which means we had to ignore it to quickly run MCMC, especially while we were prototyping. \n",
    "\n",
    "Use a variational inference algorithm on the full data set now. Do not recompile your stan model. You don't need to. This took a few minutes on my machine.\n"
   ]
  },
  {
   "cell_type": "code",
   "execution_count": 130,
   "id": "e03c1614-c4cc-4f6e-998c-9334fd9eed96",
   "metadata": {},
   "outputs": [
    {
     "name": "stderr",
     "output_type": "stream",
     "text": [
      "19:47:02 - cmdstanpy - INFO - Chain [1] start processing\n",
      "19:48:59 - cmdstanpy - INFO - Chain [1] done processing\n"
     ]
    }
   ],
   "source": [
    "Y = flights['log_price']\n",
    "full_data = {'N' : flights.shape[0], 'K': 6, 'X': X, 'y':Y}\n",
    "fitp = model.pathfinder(full_data)"
   ]
  },
  {
   "cell_type": "code",
   "execution_count": 131,
   "id": "2431dc7b-3ef0-49fa-9980-aa3c2f8a357d",
   "metadata": {},
   "outputs": [
    {
     "data": {
      "text/html": [
       "<div>\n",
       "<style scoped>\n",
       "    .dataframe tbody tr th:only-of-type {\n",
       "        vertical-align: middle;\n",
       "    }\n",
       "\n",
       "    .dataframe tbody tr th {\n",
       "        vertical-align: top;\n",
       "    }\n",
       "\n",
       "    .dataframe thead th {\n",
       "        text-align: right;\n",
       "    }\n",
       "</style>\n",
       "<table border=\"1\" class=\"dataframe\">\n",
       "  <thead>\n",
       "    <tr style=\"text-align: right;\">\n",
       "      <th></th>\n",
       "      <th>lp_approx__</th>\n",
       "      <th>lp__</th>\n",
       "      <th>alpha</th>\n",
       "      <th>beta[1]</th>\n",
       "      <th>beta[2]</th>\n",
       "      <th>beta[3]</th>\n",
       "      <th>beta[4]</th>\n",
       "      <th>beta[5]</th>\n",
       "      <th>beta[6]</th>\n",
       "      <th>sigma</th>\n",
       "      <th>...</th>\n",
       "      <th>y_tilde[300144]</th>\n",
       "      <th>y_tilde[300145]</th>\n",
       "      <th>y_tilde[300146]</th>\n",
       "      <th>y_tilde[300147]</th>\n",
       "      <th>y_tilde[300148]</th>\n",
       "      <th>y_tilde[300149]</th>\n",
       "      <th>y_tilde[300150]</th>\n",
       "      <th>y_tilde[300151]</th>\n",
       "      <th>y_tilde[300152]</th>\n",
       "      <th>y_tilde[300153]</th>\n",
       "    </tr>\n",
       "  </thead>\n",
       "  <tbody>\n",
       "    <tr>\n",
       "      <th>0</th>\n",
       "      <td>97.1520</td>\n",
       "      <td>-129079.0</td>\n",
       "      <td>8.68082</td>\n",
       "      <td>0.015931</td>\n",
       "      <td>-0.014483</td>\n",
       "      <td>0.190490</td>\n",
       "      <td>0.030327</td>\n",
       "      <td>0.346336</td>\n",
       "      <td>2.01638</td>\n",
       "      <td>0.372280</td>\n",
       "      <td>...</td>\n",
       "      <td>10.48200</td>\n",
       "      <td>10.4532</td>\n",
       "      <td>10.27310</td>\n",
       "      <td>9.79224</td>\n",
       "      <td>10.4134</td>\n",
       "      <td>10.69020</td>\n",
       "      <td>9.99791</td>\n",
       "      <td>10.77950</td>\n",
       "      <td>10.31420</td>\n",
       "      <td>10.76790</td>\n",
       "    </tr>\n",
       "    <tr>\n",
       "      <th>1</th>\n",
       "      <td>97.1520</td>\n",
       "      <td>-129079.0</td>\n",
       "      <td>8.68082</td>\n",
       "      <td>0.015931</td>\n",
       "      <td>-0.014483</td>\n",
       "      <td>0.190490</td>\n",
       "      <td>0.030327</td>\n",
       "      <td>0.346336</td>\n",
       "      <td>2.01638</td>\n",
       "      <td>0.372280</td>\n",
       "      <td>...</td>\n",
       "      <td>10.48200</td>\n",
       "      <td>10.4532</td>\n",
       "      <td>10.27310</td>\n",
       "      <td>9.79224</td>\n",
       "      <td>10.4134</td>\n",
       "      <td>10.69020</td>\n",
       "      <td>9.99791</td>\n",
       "      <td>10.77950</td>\n",
       "      <td>10.31420</td>\n",
       "      <td>10.76790</td>\n",
       "    </tr>\n",
       "    <tr>\n",
       "      <th>2</th>\n",
       "      <td>93.8346</td>\n",
       "      <td>-129081.0</td>\n",
       "      <td>8.68007</td>\n",
       "      <td>0.016055</td>\n",
       "      <td>-0.014463</td>\n",
       "      <td>0.187544</td>\n",
       "      <td>0.032738</td>\n",
       "      <td>0.344432</td>\n",
       "      <td>2.01588</td>\n",
       "      <td>0.370874</td>\n",
       "      <td>...</td>\n",
       "      <td>10.25520</td>\n",
       "      <td>11.1740</td>\n",
       "      <td>10.23000</td>\n",
       "      <td>10.57600</td>\n",
       "      <td>10.2524</td>\n",
       "      <td>11.05380</td>\n",
       "      <td>10.30180</td>\n",
       "      <td>10.13560</td>\n",
       "      <td>10.62390</td>\n",
       "      <td>10.72290</td>\n",
       "    </tr>\n",
       "    <tr>\n",
       "      <th>3</th>\n",
       "      <td>97.1285</td>\n",
       "      <td>-129079.0</td>\n",
       "      <td>8.68148</td>\n",
       "      <td>0.016057</td>\n",
       "      <td>-0.014529</td>\n",
       "      <td>0.189961</td>\n",
       "      <td>0.033365</td>\n",
       "      <td>0.345360</td>\n",
       "      <td>2.01567</td>\n",
       "      <td>0.372232</td>\n",
       "      <td>...</td>\n",
       "      <td>10.14860</td>\n",
       "      <td>10.2934</td>\n",
       "      <td>10.82110</td>\n",
       "      <td>10.52770</td>\n",
       "      <td>10.2885</td>\n",
       "      <td>10.39570</td>\n",
       "      <td>10.98810</td>\n",
       "      <td>9.78735</td>\n",
       "      <td>10.41950</td>\n",
       "      <td>10.72150</td>\n",
       "    </tr>\n",
       "    <tr>\n",
       "      <th>4</th>\n",
       "      <td>100.8110</td>\n",
       "      <td>-129080.0</td>\n",
       "      <td>8.67964</td>\n",
       "      <td>0.016065</td>\n",
       "      <td>-0.014469</td>\n",
       "      <td>0.189467</td>\n",
       "      <td>0.035701</td>\n",
       "      <td>0.344574</td>\n",
       "      <td>2.01499</td>\n",
       "      <td>0.372339</td>\n",
       "      <td>...</td>\n",
       "      <td>9.94036</td>\n",
       "      <td>10.9113</td>\n",
       "      <td>10.22280</td>\n",
       "      <td>10.60000</td>\n",
       "      <td>11.5061</td>\n",
       "      <td>10.67330</td>\n",
       "      <td>10.38050</td>\n",
       "      <td>11.02300</td>\n",
       "      <td>10.89270</td>\n",
       "      <td>9.86323</td>\n",
       "    </tr>\n",
       "    <tr>\n",
       "      <th>...</th>\n",
       "      <td>...</td>\n",
       "      <td>...</td>\n",
       "      <td>...</td>\n",
       "      <td>...</td>\n",
       "      <td>...</td>\n",
       "      <td>...</td>\n",
       "      <td>...</td>\n",
       "      <td>...</td>\n",
       "      <td>...</td>\n",
       "      <td>...</td>\n",
       "      <td>...</td>\n",
       "      <td>...</td>\n",
       "      <td>...</td>\n",
       "      <td>...</td>\n",
       "      <td>...</td>\n",
       "      <td>...</td>\n",
       "      <td>...</td>\n",
       "      <td>...</td>\n",
       "      <td>...</td>\n",
       "      <td>...</td>\n",
       "      <td>...</td>\n",
       "    </tr>\n",
       "    <tr>\n",
       "      <th>995</th>\n",
       "      <td>95.3405</td>\n",
       "      <td>-129079.0</td>\n",
       "      <td>8.67786</td>\n",
       "      <td>0.016013</td>\n",
       "      <td>-0.014424</td>\n",
       "      <td>0.190108</td>\n",
       "      <td>0.035603</td>\n",
       "      <td>0.344330</td>\n",
       "      <td>2.01784</td>\n",
       "      <td>0.371963</td>\n",
       "      <td>...</td>\n",
       "      <td>10.33280</td>\n",
       "      <td>10.3516</td>\n",
       "      <td>10.82330</td>\n",
       "      <td>10.67950</td>\n",
       "      <td>10.5418</td>\n",
       "      <td>10.29530</td>\n",
       "      <td>9.88560</td>\n",
       "      <td>10.45970</td>\n",
       "      <td>10.99290</td>\n",
       "      <td>10.41580</td>\n",
       "    </tr>\n",
       "    <tr>\n",
       "      <th>996</th>\n",
       "      <td>95.8381</td>\n",
       "      <td>-129079.0</td>\n",
       "      <td>8.67937</td>\n",
       "      <td>0.015969</td>\n",
       "      <td>-0.014441</td>\n",
       "      <td>0.191127</td>\n",
       "      <td>0.030845</td>\n",
       "      <td>0.345486</td>\n",
       "      <td>2.01745</td>\n",
       "      <td>0.372302</td>\n",
       "      <td>...</td>\n",
       "      <td>10.17000</td>\n",
       "      <td>10.5709</td>\n",
       "      <td>10.90300</td>\n",
       "      <td>10.09300</td>\n",
       "      <td>10.2576</td>\n",
       "      <td>9.89986</td>\n",
       "      <td>10.11910</td>\n",
       "      <td>10.50170</td>\n",
       "      <td>9.73015</td>\n",
       "      <td>10.89590</td>\n",
       "    </tr>\n",
       "    <tr>\n",
       "      <th>997</th>\n",
       "      <td>96.3380</td>\n",
       "      <td>-129080.0</td>\n",
       "      <td>8.67960</td>\n",
       "      <td>0.016087</td>\n",
       "      <td>-0.014396</td>\n",
       "      <td>0.187081</td>\n",
       "      <td>0.029920</td>\n",
       "      <td>0.341219</td>\n",
       "      <td>2.01681</td>\n",
       "      <td>0.372193</td>\n",
       "      <td>...</td>\n",
       "      <td>10.66940</td>\n",
       "      <td>10.6220</td>\n",
       "      <td>9.90362</td>\n",
       "      <td>10.63020</td>\n",
       "      <td>10.4906</td>\n",
       "      <td>10.48950</td>\n",
       "      <td>10.71190</td>\n",
       "      <td>10.19250</td>\n",
       "      <td>9.90167</td>\n",
       "      <td>10.17010</td>\n",
       "    </tr>\n",
       "    <tr>\n",
       "      <th>998</th>\n",
       "      <td>97.1285</td>\n",
       "      <td>-129079.0</td>\n",
       "      <td>8.68148</td>\n",
       "      <td>0.016057</td>\n",
       "      <td>-0.014529</td>\n",
       "      <td>0.189961</td>\n",
       "      <td>0.033365</td>\n",
       "      <td>0.345360</td>\n",
       "      <td>2.01567</td>\n",
       "      <td>0.372232</td>\n",
       "      <td>...</td>\n",
       "      <td>10.14860</td>\n",
       "      <td>10.2934</td>\n",
       "      <td>10.82110</td>\n",
       "      <td>10.52770</td>\n",
       "      <td>10.2885</td>\n",
       "      <td>10.39570</td>\n",
       "      <td>10.98810</td>\n",
       "      <td>9.78735</td>\n",
       "      <td>10.41950</td>\n",
       "      <td>10.72150</td>\n",
       "    </tr>\n",
       "    <tr>\n",
       "      <th>999</th>\n",
       "      <td>95.9000</td>\n",
       "      <td>-129081.0</td>\n",
       "      <td>8.67855</td>\n",
       "      <td>0.015998</td>\n",
       "      <td>-0.014359</td>\n",
       "      <td>0.190671</td>\n",
       "      <td>0.032519</td>\n",
       "      <td>0.342651</td>\n",
       "      <td>2.01814</td>\n",
       "      <td>0.371838</td>\n",
       "      <td>...</td>\n",
       "      <td>9.61627</td>\n",
       "      <td>10.4162</td>\n",
       "      <td>10.94420</td>\n",
       "      <td>10.26130</td>\n",
       "      <td>10.0331</td>\n",
       "      <td>10.43320</td>\n",
       "      <td>10.34590</td>\n",
       "      <td>10.19540</td>\n",
       "      <td>10.64080</td>\n",
       "      <td>10.25460</td>\n",
       "    </tr>\n",
       "  </tbody>\n",
       "</table>\n",
       "<p>1000 rows × 300170 columns</p>\n",
       "</div>"
      ],
      "text/plain": [
       "     lp_approx__      lp__    alpha   beta[1]   beta[2]   beta[3]   beta[4]  \\\n",
       "0        97.1520 -129079.0  8.68082  0.015931 -0.014483  0.190490  0.030327   \n",
       "1        97.1520 -129079.0  8.68082  0.015931 -0.014483  0.190490  0.030327   \n",
       "2        93.8346 -129081.0  8.68007  0.016055 -0.014463  0.187544  0.032738   \n",
       "3        97.1285 -129079.0  8.68148  0.016057 -0.014529  0.189961  0.033365   \n",
       "4       100.8110 -129080.0  8.67964  0.016065 -0.014469  0.189467  0.035701   \n",
       "..           ...       ...      ...       ...       ...       ...       ...   \n",
       "995      95.3405 -129079.0  8.67786  0.016013 -0.014424  0.190108  0.035603   \n",
       "996      95.8381 -129079.0  8.67937  0.015969 -0.014441  0.191127  0.030845   \n",
       "997      96.3380 -129080.0  8.67960  0.016087 -0.014396  0.187081  0.029920   \n",
       "998      97.1285 -129079.0  8.68148  0.016057 -0.014529  0.189961  0.033365   \n",
       "999      95.9000 -129081.0  8.67855  0.015998 -0.014359  0.190671  0.032519   \n",
       "\n",
       "      beta[5]  beta[6]     sigma  ...  y_tilde[300144]  y_tilde[300145]  \\\n",
       "0    0.346336  2.01638  0.372280  ...         10.48200          10.4532   \n",
       "1    0.346336  2.01638  0.372280  ...         10.48200          10.4532   \n",
       "2    0.344432  2.01588  0.370874  ...         10.25520          11.1740   \n",
       "3    0.345360  2.01567  0.372232  ...         10.14860          10.2934   \n",
       "4    0.344574  2.01499  0.372339  ...          9.94036          10.9113   \n",
       "..        ...      ...       ...  ...              ...              ...   \n",
       "995  0.344330  2.01784  0.371963  ...         10.33280          10.3516   \n",
       "996  0.345486  2.01745  0.372302  ...         10.17000          10.5709   \n",
       "997  0.341219  2.01681  0.372193  ...         10.66940          10.6220   \n",
       "998  0.345360  2.01567  0.372232  ...         10.14860          10.2934   \n",
       "999  0.342651  2.01814  0.371838  ...          9.61627          10.4162   \n",
       "\n",
       "     y_tilde[300146]  y_tilde[300147]  y_tilde[300148]  y_tilde[300149]  \\\n",
       "0           10.27310          9.79224          10.4134         10.69020   \n",
       "1           10.27310          9.79224          10.4134         10.69020   \n",
       "2           10.23000         10.57600          10.2524         11.05380   \n",
       "3           10.82110         10.52770          10.2885         10.39570   \n",
       "4           10.22280         10.60000          11.5061         10.67330   \n",
       "..               ...              ...              ...              ...   \n",
       "995         10.82330         10.67950          10.5418         10.29530   \n",
       "996         10.90300         10.09300          10.2576          9.89986   \n",
       "997          9.90362         10.63020          10.4906         10.48950   \n",
       "998         10.82110         10.52770          10.2885         10.39570   \n",
       "999         10.94420         10.26130          10.0331         10.43320   \n",
       "\n",
       "     y_tilde[300150]  y_tilde[300151]  y_tilde[300152]  y_tilde[300153]  \n",
       "0            9.99791         10.77950         10.31420         10.76790  \n",
       "1            9.99791         10.77950         10.31420         10.76790  \n",
       "2           10.30180         10.13560         10.62390         10.72290  \n",
       "3           10.98810          9.78735         10.41950         10.72150  \n",
       "4           10.38050         11.02300         10.89270          9.86323  \n",
       "..               ...              ...              ...              ...  \n",
       "995          9.88560         10.45970         10.99290         10.41580  \n",
       "996         10.11910         10.50170          9.73015         10.89590  \n",
       "997         10.71190         10.19250          9.90167         10.17010  \n",
       "998         10.98810          9.78735         10.41950         10.72150  \n",
       "999         10.34590         10.19540         10.64080         10.25460  \n",
       "\n",
       "[1000 rows x 300170 columns]"
      ]
     },
     "execution_count": 131,
     "metadata": {},
     "output_type": "execute_result"
    }
   ],
   "source": [
    "param_namesp = fitp.column_names\n",
    "posteriorp_df = pd.DataFrame(fitp.draws(), columns=param_namesp)\n",
    "posteriorp_df"
   ]
  },
  {
   "cell_type": "markdown",
   "id": "5e607b90-a258-42b9-a3ea-ef5ae816bc67",
   "metadata": {},
   "source": [
    "1.\n",
    "\n",
    "Plot a histogram for the alpha parameter. Does it look the same as the MCMC output? "
   ]
  },
  {
   "cell_type": "code",
   "execution_count": 140,
   "id": "7090462a-5ffd-4d93-a636-105bde8e4a12",
   "metadata": {},
   "outputs": [
    {
     "data": {
      "image/png": "[encoded data removed]",
      "text/plain": [
       "<Figure size 640x480 with 1 Axes>"
      ]
     },
     "metadata": {},
     "output_type": "display_data"
    }
   ],
   "source": [
    "plt.hist(posteriorp_df['alpha'], bins=12)\n",
    "plt.show()"
   ]
  },
  {
   "cell_type": "markdown",
   "id": "cdeeb4ec-baa6-4610-8feb-1329d5d25101",
   "metadata": {},
   "source": [
    "This does not look like the MCMC distribution for alpha. That distribution was approximately normal, this one has more than one peak. The peaks (the primary one here and the MCMC) are about the same position. This distribution looks decently symmetric, thought I've run this multiple times and have had some look more skewed right than symmetric."
   ]
  },
  {
   "cell_type": "markdown",
   "id": "becb2dad-4215-46d7-93b4-59884f5cf700",
   "metadata": {},
   "source": [
    "2.\n",
    "\n",
    "Plot the same scatterplot matrix for the betas? How does it look compared to the full MCMC output?"
   ]
  },
  {
   "cell_type": "code",
   "execution_count": 133,
   "id": "0661fa32-0222-4a79-9c51-5cdb7a7a1f13",
   "metadata": {},
   "outputs": [
    {
     "data": {
      "image/png": "[encoded data removed]",
      "text/plain": [
       "<Figure size 640x480 with 1 Axes>"
      ]
     },
     "metadata": {},
     "output_type": "display_data"
    }
   ],
   "source": [
    "plt.hist(posteriorp_df['beta[1]'], color='red')\n",
    "plt.hist(posteriorp_df['beta[2]'], color='orange')\n",
    "plt.hist(posteriorp_df['beta[3]'], color='yellow')\n",
    "plt.hist(posteriorp_df['beta[4]'], color='green')\n",
    "plt.hist(posteriorp_df['beta[5]'], color='blue')\n",
    "plt.hist(posteriorp_df['beta[6]'], color='purple')\n",
    "plt.show()"
   ]
  },
  {
   "cell_type": "code",
   "execution_count": 142,
   "id": "3eb8f374-6db1-47c5-b123-922dad9bf204",
   "metadata": {},
   "outputs": [
    {
     "data": {
      "text/html": [
       "<div>\n",
       "<style scoped>\n",
       "    .dataframe tbody tr th:only-of-type {\n",
       "        vertical-align: middle;\n",
       "    }\n",
       "\n",
       "    .dataframe tbody tr th {\n",
       "        vertical-align: top;\n",
       "    }\n",
       "\n",
       "    .dataframe thead th {\n",
       "        text-align: right;\n",
       "    }\n",
       "</style>\n",
       "<table border=\"1\" class=\"dataframe\">\n",
       "  <thead>\n",
       "    <tr style=\"text-align: right;\">\n",
       "      <th></th>\n",
       "      <th>mean</th>\n",
       "      <th>5%</th>\n",
       "      <th>95%</th>\n",
       "    </tr>\n",
       "  </thead>\n",
       "  <tbody>\n",
       "    <tr>\n",
       "      <th>lp_approx__</th>\n",
       "      <td>95.933625</td>\n",
       "      <td>91.246200</td>\n",
       "      <td>100.255650</td>\n",
       "    </tr>\n",
       "    <tr>\n",
       "      <th>lp__</th>\n",
       "      <td>-129079.907000</td>\n",
       "      <td>-129083.000000</td>\n",
       "      <td>-129079.000000</td>\n",
       "    </tr>\n",
       "    <tr>\n",
       "      <th>alpha</th>\n",
       "      <td>8.679350</td>\n",
       "      <td>8.677860</td>\n",
       "      <td>8.680961</td>\n",
       "    </tr>\n",
       "    <tr>\n",
       "      <th>beta[1]</th>\n",
       "      <td>0.015976</td>\n",
       "      <td>0.015815</td>\n",
       "      <td>0.016067</td>\n",
       "    </tr>\n",
       "    <tr>\n",
       "      <th>beta[2]</th>\n",
       "      <td>-0.014433</td>\n",
       "      <td>-0.014488</td>\n",
       "      <td>-0.014381</td>\n",
       "    </tr>\n",
       "    <tr>\n",
       "      <th>beta[3]</th>\n",
       "      <td>0.190595</td>\n",
       "      <td>0.187544</td>\n",
       "      <td>0.192572</td>\n",
       "    </tr>\n",
       "    <tr>\n",
       "      <th>beta[4]</th>\n",
       "      <td>0.033076</td>\n",
       "      <td>0.030317</td>\n",
       "      <td>0.035603</td>\n",
       "    </tr>\n",
       "    <tr>\n",
       "      <th>beta[5]</th>\n",
       "      <td>0.345010</td>\n",
       "      <td>0.342561</td>\n",
       "      <td>0.347765</td>\n",
       "    </tr>\n",
       "    <tr>\n",
       "      <th>beta[6]</th>\n",
       "      <td>2.016879</td>\n",
       "      <td>2.014430</td>\n",
       "      <td>2.017840</td>\n",
       "    </tr>\n",
       "  </tbody>\n",
       "</table>\n",
       "</div>"
      ],
      "text/plain": [
       "                      mean             5%            95%\n",
       "lp_approx__      95.933625      91.246200     100.255650\n",
       "lp__        -129079.907000 -129083.000000 -129079.000000\n",
       "alpha             8.679350       8.677860       8.680961\n",
       "beta[1]           0.015976       0.015815       0.016067\n",
       "beta[2]          -0.014433      -0.014488      -0.014381\n",
       "beta[3]           0.190595       0.187544       0.192572\n",
       "beta[4]           0.033076       0.030317       0.035603\n",
       "beta[5]           0.345010       0.342561       0.347765\n",
       "beta[6]           2.016879       2.014430       2.017840"
      ]
     },
     "execution_count": 142,
     "metadata": {},
     "output_type": "execute_result"
    }
   ],
   "source": [
    "summaryp = posteriorp_df.describe(percentiles=[0.05, 0.95]).T\n",
    "summaryp[['mean', '5%', '95%']].iloc[0:9]"
   ]
  },
  {
   "cell_type": "markdown",
   "id": "b492d44c-c324-4d42-b603-3843e7019f9c",
   "metadata": {},
   "source": [
    "The plot for the betas looks very different. Beta[1] and beta[2] don't even show up. The rest are very spikey - they have almost no width to them. I ran a credible interval for them just to see and all the intervals are crazy small, so it makes sense. Beta[4] is also very close to 0 now."
   ]
  },
  {
   "cell_type": "markdown",
   "id": "761f041a-762d-4711-8d12-9c33190df8a8",
   "metadata": {},
   "source": [
    "## Problem 3: MAP Estimates\n",
    "\n",
    "It still might be a bit slow for you, even if you are just running a variational algorithm. If you would like to do as the frequentists do--just optimize a function instead of trying to find the function itself--you can just find the MAP estimate:\n",
    "\n",
    "$$\n",
    "\\text{argmax}_\\theta \\pi(\\theta \\mid y)\n",
    "$$\n",
    "\n",
    "At least this way we get the benefit of the prior. This is the fastest out of the three approaches so far because there is no attempt to find the posterior's function--just its mode."
   ]
  },
  {
   "cell_type": "markdown",
   "id": "2dc11aad-a06e-4b6e-bd1d-81234f0aff1b",
   "metadata": {},
   "source": [
    "1.\n",
    "\n",
    "Use your model's `.optimize()` function to display the point estimates for your parameters."
   ]
  },
  {
   "cell_type": "code",
   "execution_count": 33,
   "id": "6c3e73c7-90a5-48bf-b39b-da3e883461fa",
   "metadata": {},
   "outputs": [
    {
     "name": "stderr",
     "output_type": "stream",
     "text": [
      "19:18:59 - cmdstanpy - INFO - Chain [1] start processing\n",
      "19:19:05 - cmdstanpy - INFO - Chain [1] done processing\n"
     ]
    }
   ],
   "source": [
    "est = model.optimize(full_data)"
   ]
  },
  {
   "cell_type": "code",
   "execution_count": 153,
   "id": "fad49680-5207-4c77-b092-c4b22771b81e",
   "metadata": {},
   "outputs": [
    {
     "data": {
      "text/html": [
       "<div>\n",
       "<style scoped>\n",
       "    .dataframe tbody tr th:only-of-type {\n",
       "        vertical-align: middle;\n",
       "    }\n",
       "\n",
       "    .dataframe tbody tr th {\n",
       "        vertical-align: top;\n",
       "    }\n",
       "\n",
       "    .dataframe thead th {\n",
       "        text-align: right;\n",
       "    }\n",
       "</style>\n",
       "<table border=\"1\" class=\"dataframe\">\n",
       "  <thead>\n",
       "    <tr style=\"text-align: right;\">\n",
       "      <th></th>\n",
       "      <th>MAP Estimate</th>\n",
       "    </tr>\n",
       "  </thead>\n",
       "  <tbody>\n",
       "    <tr>\n",
       "      <th>beta_1</th>\n",
       "      <td>0.015990</td>\n",
       "    </tr>\n",
       "    <tr>\n",
       "      <th>beta_2</th>\n",
       "      <td>-0.014428</td>\n",
       "    </tr>\n",
       "    <tr>\n",
       "      <th>beta_3</th>\n",
       "      <td>0.191772</td>\n",
       "    </tr>\n",
       "    <tr>\n",
       "      <th>beta_4</th>\n",
       "      <td>0.033655</td>\n",
       "    </tr>\n",
       "    <tr>\n",
       "      <th>beta_5</th>\n",
       "      <td>0.346609</td>\n",
       "    </tr>\n",
       "    <tr>\n",
       "      <th>beta_6</th>\n",
       "      <td>2.015590</td>\n",
       "    </tr>\n",
       "  </tbody>\n",
       "</table>\n",
       "</div>"
      ],
      "text/plain": [
       "        MAP Estimate\n",
       "beta_1      0.015990\n",
       "beta_2     -0.014428\n",
       "beta_3      0.191772\n",
       "beta_4      0.033655\n",
       "beta_5      0.346609\n",
       "beta_6      2.015590"
      ]
     },
     "execution_count": 153,
     "metadata": {},
     "output_type": "execute_result"
    }
   ],
   "source": [
    "betas = np.array(['beta_1', 'beta_2', 'beta_3', 'beta_4', 'beta_5','beta_6'])\n",
    "opt = pd.DataFrame(est.beta, betas)\n",
    "opt = opt.rename(columns={0: 'MAP Estimate'})\n",
    "opt"
   ]
  },
  {
   "cell_type": "code",
   "execution_count": null,
   "id": "bbf69958-e432-478f-9be2-6dc90e785629",
   "metadata": {},
   "outputs": [],
   "source": []
  }
 ],
 "metadata": {
  "kernelspec": {
   "display_name": "Python 3 (ipykernel)",
   "language": "python",
   "name": "python3"
  },
  "language_info": {
   "codemirror_mode": {
    "name": "ipython",
    "version": 3
   },
   "file_extension": ".py",
   "mimetype": "text/x-python",
   "name": "python",
   "nbconvert_exporter": "python",
   "pygments_lexer": "ipython3",
   "version": "3.11.5"
  }
 },
 "nbformat": 4,
 "nbformat_minor": 5
}
